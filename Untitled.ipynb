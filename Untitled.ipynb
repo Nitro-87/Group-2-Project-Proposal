{
 "cells": [
  {
   "cell_type": "code",
   "execution_count": null,
   "id": "359d17d0-95c2-4593-a79e-e7bb5fe2e3ea",
   "metadata": {},
   "outputs": [],
   "source": [
    "Hi guys\n"
   ]
  }
 ],
 "metadata": {
  "kernelspec": {
   "display_name": "R",
   "language": "R",
   "name": "ir"
  },
  "language_info": {
   "codemirror_mode": "r",
   "file_extension": ".r",
   "mimetype": "text/x-r-source",
   "name": "R",
   "pygments_lexer": "r",
   "version": "4.3.1"
  }
 },
 "nbformat": 4,
 "nbformat_minor": 5
}
