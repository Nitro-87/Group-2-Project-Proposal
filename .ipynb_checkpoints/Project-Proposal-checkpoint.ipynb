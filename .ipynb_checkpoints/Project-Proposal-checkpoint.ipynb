{
 "cells": [
  {
   "cell_type": "markdown",
   "id": "1e95ebb6",
   "metadata": {},
   "source": [
    "**Data Science Section 002 Group 7 Project Proposal**"
   ]
  },
  {
   "cell_type": "markdown",
   "id": "f775f6be-4b81-4c47-b6f9-c4266d75a2dd",
   "metadata": {},
   "source": [
    "**Predicting the Presence or Absence of Heart Disease based on Specific Variables.**"
   ]
  },
  {
   "cell_type": "markdown",
   "id": "92c21a02-64c6-480a-aa1f-f5ab5d2b656e",
   "metadata": {},
   "source": [
    "Intro here...."
   ]
  },
  {
   "cell_type": "code",
   "execution_count": null,
   "id": "d9c79c5a-ab75-4971-8a5d-9c6152d60dd3",
   "metadata": {},
   "outputs": [],
   "source": [
    "library(tidyverse)\n",
    "library(tidymodels)"
   ]
  },
  {
   "cell_type": "code",
   "execution_count": null,
   "id": "52670144-7f63-4ac3-88c2-312809960141",
   "metadata": {},
   "outputs": [],
   "source": [
    "#Demostration that the dataset can be read from the web into R:\n",
    "\n",
    "cleveland_data<- read_delim(\"data/processed.cleveland.data\", delim=\",\", col_names = FALSE)\n",
    "cleveland_data"
   ]
  },
  {
   "cell_type": "code",
   "execution_count": null,
   "id": "9f7817af-6394-4c03-ab23-e160e85d02c6",
   "metadata": {},
   "outputs": [],
   "source": [
    "#Renaming columns:\n",
    "\n",
    "cleveland_data <- rename(cleveland_data,\n",
    "       age = X1,\n",
    "       sex = X2,\n",
    "       chest_pain_type = X3,\n",
    "       trestbps = X4,\n",
    "       chol = X5,\n",
    "       fbs = X6,    \n",
    "       restecg = X7,\n",
    "       thalach = X8,\n",
    "       exang = X9,\n",
    "       oldpeak = X10,\n",
    "       slope = X11,\n",
    "       ca = X12,\n",
    "       thal = X13,\n",
    "       diagnosis = X14)\n",
    "\n",
    "#skipping rows with missing values\n",
    "cleveland_data<- cleveland_data |> drop_na()\n",
    "\n",
    "glimpse(cleveland_data)"
   ]
  },
  {
   "cell_type": "code",
   "execution_count": null,
   "id": "43ecd8d0-5ca5-400d-9763-9e99e6daed25",
   "metadata": {},
   "outputs": [],
   "source": [
    "#renaming categorical variables(this might be unneccessary though \n",
    "#since we won't be using them all but idk):\n",
    "\n",
    "#renaming sex values\n",
    "cleveland_data <- cleveland_data |>\n",
    "mutate(sex = as_factor(sex))|>\n",
    "mutate(sex = fct_recode(sex, \"female\" = \"0\", \n",
    "                            \"male\" = \"1\"))\n",
    "#renaming chest pain values\n",
    "cleveland_data <- cleveland_data |>\n",
    "mutate(chest_pain_type = as_factor(chest_pain_type))|>\n",
    "mutate(chest_pain_type = fct_recode(chest_pain_type, \n",
    "                            \"typical angina\" = \"1\", \n",
    "                            \"atypical angina\" = \"2\", \n",
    "                            \"non-anginal_pain\" = \"3\", \n",
    "                            \"asymptomatic\" = \"4\"))\n",
    "#renaming fbs values\n",
    "cleveland_data <- cleveland_data |>\n",
    "mutate(fbs = as_factor(fbs))|>\n",
    "mutate(fbs = fct_recode(fbs, \"false\" = \"0\", \n",
    "                            \"true\" = \"1\"))\n",
    "\n",
    "#renaming exang values\n",
    "cleveland_data <- cleveland_data |>\n",
    "mutate(exang = as_factor(exang))|>\n",
    "mutate(exang = fct_recode(exang, \"no\" = \"0\", \n",
    "                            \"yes\" = \"1\"))\n",
    "#renaming slope values\n",
    "cleveland_data <- cleveland_data |>\n",
    "mutate(slope = as_factor(slope))|>\n",
    "mutate(slope = fct_recode(thal,\"upsloping\" = \"1\", \n",
    "                            \"flat\" = \"2\", \n",
    "                            \"downsloping\" = \"3\"))\n",
    "#renaming thal values\n",
    "cleveland_data <- cleveland_data |>\n",
    "mutate(thal = as_factor(thal))|>\n",
    "mutate(thal = fct_recode(thal, \"reversible defect\" = \"7.0\", \n",
    "                            \"fixed defect\" = \"6.0\", \n",
    "                            \"normal\" = \"3.0\"))\n",
    "#renaming diagnosis values\n",
    "cleveland_data <- cleveland_data |>\n",
    "mutate(diagnosis = as_factor(diagnosis))|>\n",
    "mutate(diagnosis = fct_recode(diagnosis, \n",
    "                            \"absent\" = \"0\",\n",
    "                              \"present\" = \"1\", \n",
    "                            \"present\" = \"2\", \n",
    "                            \"present\" = \"3\", \n",
    "                            \"present\" = \"4\"))\n",
    "\n",
    "glimpse(cleveland_data)"
   ]
  },
  {
   "cell_type": "code",
   "execution_count": null,
   "id": "4ecc2e4a-3027-448a-879c-b07536e13ac2",
   "metadata": {},
   "outputs": [],
   "source": [
    "#splitting data into training and testing sets\n",
    "cleveland_data_split <- initial_split(cleveland_data, prop = 0.75, strata = diagnosis)\n",
    "training_set <- training(cleveland_data_split)\n",
    "testing_test <- testing(cleveland_data_split)"
   ]
  }
 ],
 "metadata": {
  "kernelspec": {
   "display_name": "R",
   "language": "R",
   "name": "ir"
  },
  "language_info": {
   "codemirror_mode": "r",
   "file_extension": ".r",
   "mimetype": "text/x-r-source",
   "name": "R",
   "pygments_lexer": "r",
   "version": "4.3.1"
  }
 },
 "nbformat": 4,
 "nbformat_minor": 5
}
