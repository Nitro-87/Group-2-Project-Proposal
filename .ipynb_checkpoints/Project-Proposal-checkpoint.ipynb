{
 "cells": [
  {
   "cell_type": "markdown",
   "id": "1e95ebb6",
   "metadata": {},
   "source": [
    "**Data Science Section 002 Group 7 Project Proposal**"
   ]
  },
  {
   "cell_type": "markdown",
   "id": "f775f6be-4b81-4c47-b6f9-c4266d75a2dd",
   "metadata": {},
   "source": [
    "Predicting whether or not a patient has heart disease based on specific variables."
   ]
  },
  {
   "cell_type": "code",
   "execution_count": null,
   "id": "e1b137b1-fb89-410a-86b7-76595af01ab6",
   "metadata": {},
   "outputs": [],
   "source": [
    "library(tidyverse)\n",
    "library(tidymodels)"
   ]
  },
  {
   "cell_type": "code",
   "execution_count": null,
   "id": "52670144-7f63-4ac3-88c2-312809960141",
   "metadata": {},
   "outputs": [],
   "source": [
    "#Demostration that the dataset can be read from the web into R:\n",
    "\n",
    "cleveland_data<- read_delim(\"data/processed.cleveland.data\", delim=\",\", col_names = FALSE)\n",
    "cleveland_data"
   ]
  },
  {
   "cell_type": "code",
   "execution_count": null,
   "id": "9f7817af-6394-4c03-ab23-e160e85d02c6",
   "metadata": {},
   "outputs": [],
   "source": [
    "#Renaming columns:\n",
    "\n",
    "cleveland_data <- rename(cleveland_data,\n",
    "       age = X1,\n",
    "       sex = X2,\n",
    "       chest_pain_type = X3,\n",
    "       trestbps = X4,\n",
    "       chol = X5,\n",
    "       fbs = X6,    \n",
    "       restecg = X7,\n",
    "       thalach = X8,\n",
    "       exang = X9,\n",
    "       oldpeak = X10,\n",
    "       slope = X11,\n",
    "       ca = X12,\n",
    "       thal = X13,\n",
    "       diagnosis = X14)\n",
    "\n",
    "#skipping rows with missing values\n",
    "cleveland_data<- cleveland_data |> drop_na()\n",
    "\n",
    "glimpse(cleveland_data)"
   ]
  }
 ],
 "metadata": {
  "kernelspec": {
   "display_name": "R",
   "language": "R",
   "name": "ir"
  },
  "language_info": {
   "codemirror_mode": "r",
   "file_extension": ".r",
   "mimetype": "text/x-r-source",
   "name": "R",
   "pygments_lexer": "r",
   "version": "4.3.1"
  }
 },
 "nbformat": 4,
 "nbformat_minor": 5
}
