{
 "cells": [
  {
   "cell_type": "markdown",
   "id": "e6d7d5eb-ca78-440f-b46f-336cd2b1e6bd",
   "metadata": {},
   "source": [
    "**Data Science Section 002 Group 7 Project Proposal**"
   ]
  },
  {
   "cell_type": "code",
   "execution_count": null,
   "id": "8fbf0d57-ce34-4f3d-b812-e2ed1ddbb44a",
   "metadata": {},
   "outputs": [],
   "source": [
    "hi guys"
   ]
  }
 ],
 "metadata": {
  "kernelspec": {
   "display_name": "R",
   "language": "R",
   "name": "ir"
  },
  "language_info": {
   "codemirror_mode": "r",
   "file_extension": ".r",
   "mimetype": "text/x-r-source",
   "name": "R",
   "pygments_lexer": "r",
   "version": "4.3.1"
  }
 },
 "nbformat": 4,
 "nbformat_minor": 5
}
