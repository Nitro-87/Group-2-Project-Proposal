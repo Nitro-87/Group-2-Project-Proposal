{
 "cells": [
  {
   "cell_type": "markdown",
   "id": "1e95ebb6",
   "metadata": {},
   "source": [
    "**Data Science Section 002 Group 7 Project Proposal**"
   ]
  },
  {
   "cell_type": "markdown",
   "id": "92db842b-5f52-4b11-9dc6-3a204970b818",
   "metadata": {},
   "source": [
    "hello\n"
   ]
  },
  {
   "cell_type": "markdown",
   "id": "f775f6be-4b81-4c47-b6f9-c4266d75a2dd",
   "metadata": {},
   "source": [
    "Predicting whether or not a patient has heart disease based on specific variables."
   ]
  },
  {
   "cell_type": "code",
   "execution_count": null,
   "id": "52670144-7f63-4ac3-88c2-312809960141",
   "metadata": {},
   "outputs": [],
   "source": []
  }
 ],
 "metadata": {
  "kernelspec": {
   "display_name": "R",
   "language": "R",
   "name": "ir"
  },
  "language_info": {
   "codemirror_mode": "r",
   "file_extension": ".r",
   "mimetype": "text/x-r-source",
   "name": "R",
   "pygments_lexer": "r",
   "version": "4.3.1"
  }
 },
 "nbformat": 4,
 "nbformat_minor": 5
}
