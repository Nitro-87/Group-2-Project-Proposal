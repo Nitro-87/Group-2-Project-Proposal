{
 "cells": [
  {
   "cell_type": "markdown",
   "id": "1e95ebb6",
   "metadata": {},
   "source": [
    "**Data Science Section 002 Group 7 Project Proposal**"
   ]
  },
  {
   "cell_type": "markdown",
   "id": "f775f6be-4b81-4c47-b6f9-c4266d75a2dd",
   "metadata": {},
   "source": [
    "**Predicting the Presence or Absence of Heart Disease based on Specific Variables.**"
   ]
  },
  {
   "cell_type": "markdown",
   "id": "92c21a02-64c6-480a-aa1f-f5ab5d2b656e",
   "metadata": {},
   "source": [
    "Predictive data analysis plays an important role in the field of medical diagnostics. As cardiovascular disease continues to be a leading cause of global mortality, the development of efficient predictive models becomes crucial for detection and intervention. In this analysis, we will be predicting the presence or absence of heart disease in patients using the key parameters of age, cholesterol levels, and resting blood pressure. For this analysis, we will be using the Heart Disease dataset from the UCI Machine Learning Repository, and focusing on the Cleveland database. The original database contains 76 attributes, but a version containing a subset of only 14 of those attributes will be used for this analysis. Out of those 14 variables we are only choosing 5 to observe in our project. We have chosen age, trestbps (resting blood pressure), chol (serum cholesterol in mg/dl), thalach (maximum heart rate achieved) and num (the diagnosis of heart disease) which we will rename to \"diagnosis\". We chose these specific variables because we think that they would most significantly impact the presence of heart disease in a patient.\n",
    "\n",
    "By the end of this analysis, we expect to gain insight into the complex relationships between our chosen variables and the presence of heart disease in patients. Such findings would contribute to medical research regarding cardiovascular disease by providing insight into trends in the broader population of where the data was collected. Furthermore, this insight would allow healthcare systems to identify and focus on individuals at higher risk of heart diseases, and enable earlier intervention, improving patient outcomes. This insight could also contribute to reduced healthcare costs, as early detection and intervention could reduce the need for costly medical procedures associated with later stages of heart disease. A variety of questions could arise from the results of this analysis as well, such as whether the accuracy of the model could be improved using other information. For example, one could inquire about how lifestyle and behavioral factors such as smoking habits, exercise and diet interact with cholesterol, age, and blood pressure to influence the risk of heart disease in patients. We could also question whether the model and its findings generalize to different populations, and discuss how to make the model applicable and effective for more diverse populations. \n",
    "\n"
   ]
  },
  {
   "cell_type": "markdown",
   "id": "fd782e7e-eb3f-450a-bc0b-54f56e55bc07",
   "metadata": {},
   "source": [
    "To further understand our data, some preliminary exploratory data analysis is conducted below. To gain access to useful functions for reading and analysing our data, the following libraries must be installed:"
   ]
  },
  {
   "cell_type": "code",
   "execution_count": 14,
   "id": "d9c79c5a-ab75-4971-8a5d-9c6152d60dd3",
   "metadata": {},
   "outputs": [],
   "source": [
    "library(tidyverse)\n",
    "library(tidymodels)"
   ]
  },
  {
   "cell_type": "markdown",
   "id": "5fcbe4de-13e8-4381-b885-f2338eb79074",
   "metadata": {},
   "source": [
    "We can now read our dataset into R and assign it to an object called cleveland_data. We are also going to limit the amount of rows shown when previewing the dataset:"
   ]
  },
  {
   "cell_type": "code",
   "execution_count": 15,
   "id": "52670144-7f63-4ac3-88c2-312809960141",
   "metadata": {},
   "outputs": [
    {
     "name": "stderr",
     "output_type": "stream",
     "text": [
      "\u001b[1mRows: \u001b[22m\u001b[34m303\u001b[39m \u001b[1mColumns: \u001b[22m\u001b[34m14\u001b[39m\n",
      "\u001b[36m──\u001b[39m \u001b[1mColumn specification\u001b[22m \u001b[36m────────────────────────────────────────────────────────\u001b[39m\n",
      "\u001b[1mDelimiter:\u001b[22m \",\"\n",
      "\u001b[31mchr\u001b[39m  (2): X12, X13\n",
      "\u001b[32mdbl\u001b[39m (12): X1, X2, X3, X4, X5, X6, X7, X8, X9, X10, X11, X14\n",
      "\n",
      "\u001b[36mℹ\u001b[39m Use `spec()` to retrieve the full column specification for this data.\n",
      "\u001b[36mℹ\u001b[39m Specify the column types or set `show_col_types = FALSE` to quiet this message.\n"
     ]
    },
    {
     "data": {
      "text/html": [
       "<table class=\"dataframe\">\n",
       "<caption>A spec_tbl_df: 303 × 14</caption>\n",
       "<thead>\n",
       "\t<tr><th scope=col>X1</th><th scope=col>X2</th><th scope=col>X3</th><th scope=col>X4</th><th scope=col>X5</th><th scope=col>X6</th><th scope=col>X7</th><th scope=col>X8</th><th scope=col>X9</th><th scope=col>X10</th><th scope=col>X11</th><th scope=col>X12</th><th scope=col>X13</th><th scope=col>X14</th></tr>\n",
       "\t<tr><th scope=col>&lt;dbl&gt;</th><th scope=col>&lt;dbl&gt;</th><th scope=col>&lt;dbl&gt;</th><th scope=col>&lt;dbl&gt;</th><th scope=col>&lt;dbl&gt;</th><th scope=col>&lt;dbl&gt;</th><th scope=col>&lt;dbl&gt;</th><th scope=col>&lt;dbl&gt;</th><th scope=col>&lt;dbl&gt;</th><th scope=col>&lt;dbl&gt;</th><th scope=col>&lt;dbl&gt;</th><th scope=col>&lt;chr&gt;</th><th scope=col>&lt;chr&gt;</th><th scope=col>&lt;dbl&gt;</th></tr>\n",
       "</thead>\n",
       "<tbody>\n",
       "\t<tr><td>63</td><td>1</td><td>1</td><td>145</td><td>233</td><td>1</td><td>2</td><td>150</td><td>0</td><td>2.3</td><td>3</td><td>0.0</td><td>6.0</td><td>0</td></tr>\n",
       "\t<tr><td>67</td><td>1</td><td>4</td><td>160</td><td>286</td><td>0</td><td>2</td><td>108</td><td>1</td><td>1.5</td><td>2</td><td>3.0</td><td>3.0</td><td>2</td></tr>\n",
       "\t<tr><td>67</td><td>1</td><td>4</td><td>120</td><td>229</td><td>0</td><td>2</td><td>129</td><td>1</td><td>2.6</td><td>2</td><td>2.0</td><td>7.0</td><td>1</td></tr>\n",
       "\t<tr><td>37</td><td>1</td><td>3</td><td>130</td><td>250</td><td>0</td><td>0</td><td>187</td><td>0</td><td>3.5</td><td>3</td><td>0.0</td><td>3.0</td><td>0</td></tr>\n",
       "\t<tr><td>41</td><td>0</td><td>2</td><td>130</td><td>204</td><td>0</td><td>2</td><td>172</td><td>0</td><td>1.4</td><td>1</td><td>0.0</td><td>3.0</td><td>0</td></tr>\n",
       "\t<tr><td>⋮</td><td>⋮</td><td>⋮</td><td>⋮</td><td>⋮</td><td>⋮</td><td>⋮</td><td>⋮</td><td>⋮</td><td>⋮</td><td>⋮</td><td>⋮</td><td>⋮</td><td>⋮</td></tr>\n",
       "\t<tr><td>45</td><td>1</td><td>1</td><td>110</td><td>264</td><td>0</td><td>0</td><td>132</td><td>0</td><td>1.2</td><td>2</td><td>0.0</td><td>7.0</td><td>1</td></tr>\n",
       "\t<tr><td>68</td><td>1</td><td>4</td><td>144</td><td>193</td><td>1</td><td>0</td><td>141</td><td>0</td><td>3.4</td><td>2</td><td>2.0</td><td>7.0</td><td>2</td></tr>\n",
       "\t<tr><td>57</td><td>1</td><td>4</td><td>130</td><td>131</td><td>0</td><td>0</td><td>115</td><td>1</td><td>1.2</td><td>2</td><td>1.0</td><td>7.0</td><td>3</td></tr>\n",
       "\t<tr><td>57</td><td>0</td><td>2</td><td>130</td><td>236</td><td>0</td><td>2</td><td>174</td><td>0</td><td>0.0</td><td>2</td><td>1.0</td><td>3.0</td><td>1</td></tr>\n",
       "\t<tr><td>38</td><td>1</td><td>3</td><td>138</td><td>175</td><td>0</td><td>0</td><td>173</td><td>0</td><td>0.0</td><td>1</td><td>?  </td><td>3.0</td><td>0</td></tr>\n",
       "</tbody>\n",
       "</table>\n"
      ],
      "text/latex": [
       "A spec\\_tbl\\_df: 303 × 14\n",
       "\\begin{tabular}{llllllllllllll}\n",
       " X1 & X2 & X3 & X4 & X5 & X6 & X7 & X8 & X9 & X10 & X11 & X12 & X13 & X14\\\\\n",
       " <dbl> & <dbl> & <dbl> & <dbl> & <dbl> & <dbl> & <dbl> & <dbl> & <dbl> & <dbl> & <dbl> & <chr> & <chr> & <dbl>\\\\\n",
       "\\hline\n",
       "\t 63 & 1 & 1 & 145 & 233 & 1 & 2 & 150 & 0 & 2.3 & 3 & 0.0 & 6.0 & 0\\\\\n",
       "\t 67 & 1 & 4 & 160 & 286 & 0 & 2 & 108 & 1 & 1.5 & 2 & 3.0 & 3.0 & 2\\\\\n",
       "\t 67 & 1 & 4 & 120 & 229 & 0 & 2 & 129 & 1 & 2.6 & 2 & 2.0 & 7.0 & 1\\\\\n",
       "\t 37 & 1 & 3 & 130 & 250 & 0 & 0 & 187 & 0 & 3.5 & 3 & 0.0 & 3.0 & 0\\\\\n",
       "\t 41 & 0 & 2 & 130 & 204 & 0 & 2 & 172 & 0 & 1.4 & 1 & 0.0 & 3.0 & 0\\\\\n",
       "\t ⋮ & ⋮ & ⋮ & ⋮ & ⋮ & ⋮ & ⋮ & ⋮ & ⋮ & ⋮ & ⋮ & ⋮ & ⋮ & ⋮\\\\\n",
       "\t 45 & 1 & 1 & 110 & 264 & 0 & 0 & 132 & 0 & 1.2 & 2 & 0.0 & 7.0 & 1\\\\\n",
       "\t 68 & 1 & 4 & 144 & 193 & 1 & 0 & 141 & 0 & 3.4 & 2 & 2.0 & 7.0 & 2\\\\\n",
       "\t 57 & 1 & 4 & 130 & 131 & 0 & 0 & 115 & 1 & 1.2 & 2 & 1.0 & 7.0 & 3\\\\\n",
       "\t 57 & 0 & 2 & 130 & 236 & 0 & 2 & 174 & 0 & 0.0 & 2 & 1.0 & 3.0 & 1\\\\\n",
       "\t 38 & 1 & 3 & 138 & 175 & 0 & 0 & 173 & 0 & 0.0 & 1 & ?   & 3.0 & 0\\\\\n",
       "\\end{tabular}\n"
      ],
      "text/markdown": [
       "\n",
       "A spec_tbl_df: 303 × 14\n",
       "\n",
       "| X1 &lt;dbl&gt; | X2 &lt;dbl&gt; | X3 &lt;dbl&gt; | X4 &lt;dbl&gt; | X5 &lt;dbl&gt; | X6 &lt;dbl&gt; | X7 &lt;dbl&gt; | X8 &lt;dbl&gt; | X9 &lt;dbl&gt; | X10 &lt;dbl&gt; | X11 &lt;dbl&gt; | X12 &lt;chr&gt; | X13 &lt;chr&gt; | X14 &lt;dbl&gt; |\n",
       "|---|---|---|---|---|---|---|---|---|---|---|---|---|---|\n",
       "| 63 | 1 | 1 | 145 | 233 | 1 | 2 | 150 | 0 | 2.3 | 3 | 0.0 | 6.0 | 0 |\n",
       "| 67 | 1 | 4 | 160 | 286 | 0 | 2 | 108 | 1 | 1.5 | 2 | 3.0 | 3.0 | 2 |\n",
       "| 67 | 1 | 4 | 120 | 229 | 0 | 2 | 129 | 1 | 2.6 | 2 | 2.0 | 7.0 | 1 |\n",
       "| 37 | 1 | 3 | 130 | 250 | 0 | 0 | 187 | 0 | 3.5 | 3 | 0.0 | 3.0 | 0 |\n",
       "| 41 | 0 | 2 | 130 | 204 | 0 | 2 | 172 | 0 | 1.4 | 1 | 0.0 | 3.0 | 0 |\n",
       "| ⋮ | ⋮ | ⋮ | ⋮ | ⋮ | ⋮ | ⋮ | ⋮ | ⋮ | ⋮ | ⋮ | ⋮ | ⋮ | ⋮ |\n",
       "| 45 | 1 | 1 | 110 | 264 | 0 | 0 | 132 | 0 | 1.2 | 2 | 0.0 | 7.0 | 1 |\n",
       "| 68 | 1 | 4 | 144 | 193 | 1 | 0 | 141 | 0 | 3.4 | 2 | 2.0 | 7.0 | 2 |\n",
       "| 57 | 1 | 4 | 130 | 131 | 0 | 0 | 115 | 1 | 1.2 | 2 | 1.0 | 7.0 | 3 |\n",
       "| 57 | 0 | 2 | 130 | 236 | 0 | 2 | 174 | 0 | 0.0 | 2 | 1.0 | 3.0 | 1 |\n",
       "| 38 | 1 | 3 | 138 | 175 | 0 | 0 | 173 | 0 | 0.0 | 1 | ?   | 3.0 | 0 |\n",
       "\n"
      ],
      "text/plain": [
       "    X1 X2 X3 X4  X5  X6 X7 X8  X9 X10 X11 X12 X13 X14\n",
       "1   63 1  1  145 233 1  2  150 0  2.3 3   0.0 6.0 0  \n",
       "2   67 1  4  160 286 0  2  108 1  1.5 2   3.0 3.0 2  \n",
       "3   67 1  4  120 229 0  2  129 1  2.6 2   2.0 7.0 1  \n",
       "4   37 1  3  130 250 0  0  187 0  3.5 3   0.0 3.0 0  \n",
       "5   41 0  2  130 204 0  2  172 0  1.4 1   0.0 3.0 0  \n",
       "⋮   ⋮  ⋮  ⋮  ⋮   ⋮   ⋮  ⋮  ⋮   ⋮  ⋮   ⋮   ⋮   ⋮   ⋮  \n",
       "299 45 1  1  110 264 0  0  132 0  1.2 2   0.0 7.0 1  \n",
       "300 68 1  4  144 193 1  0  141 0  3.4 2   2.0 7.0 2  \n",
       "301 57 1  4  130 131 0  0  115 1  1.2 2   1.0 7.0 3  \n",
       "302 57 0  2  130 236 0  2  174 0  0.0 2   1.0 3.0 1  \n",
       "303 38 1  3  138 175 0  0  173 0  0.0 1   ?   3.0 0  "
      ]
     },
     "metadata": {},
     "output_type": "display_data"
    }
   ],
   "source": [
    "#Demostration that the dataset can be read from the web into R:\n",
    "options(repr.matrix.max.rows = 10)\n",
    "\n",
    "url <- \"https://raw.githubusercontent.com/Nitro-87/Group-2-Project-Proposal/main/processed.cleveland.data\"\n",
    "cleveland_data <- read_delim(url, delim= \",\" , col_names=FALSE)\n",
    "\n",
    "cleveland_data"
   ]
  },
  {
   "cell_type": "markdown",
   "id": "35fde252-16f8-4cba-a6f7-988d56071eb1",
   "metadata": {},
   "source": [
    "Since our data contains no column names, we rename each columns with the appropriate variable name below. We also replace the numerial values under our categorical variables with what they are supposed to represent, to better understand what each variable reveals to us."
   ]
  },
  {
   "cell_type": "code",
   "execution_count": 16,
   "id": "9f7817af-6394-4c03-ab23-e160e85d02c6",
   "metadata": {},
   "outputs": [
    {
     "name": "stdout",
     "output_type": "stream",
     "text": [
      "Rows: 303\n",
      "Columns: 14\n",
      "$ age             \u001b[3m\u001b[90m<dbl>\u001b[39m\u001b[23m 63, 67, 67, 37, 41, 56, 62, 57, 63, 53, 57, 56, 56, 44…\n",
      "$ sex             \u001b[3m\u001b[90m<dbl>\u001b[39m\u001b[23m 1, 1, 1, 1, 0, 1, 0, 0, 1, 1, 1, 0, 1, 1, 1, 1, 1, 1, …\n",
      "$ chest_pain_type \u001b[3m\u001b[90m<dbl>\u001b[39m\u001b[23m 1, 4, 4, 3, 2, 2, 4, 4, 4, 4, 4, 2, 3, 2, 3, 3, 2, 4, …\n",
      "$ trestbps        \u001b[3m\u001b[90m<dbl>\u001b[39m\u001b[23m 145, 160, 120, 130, 130, 120, 140, 120, 130, 140, 140,…\n",
      "$ chol            \u001b[3m\u001b[90m<dbl>\u001b[39m\u001b[23m 233, 286, 229, 250, 204, 236, 268, 354, 254, 203, 192,…\n",
      "$ fbs             \u001b[3m\u001b[90m<dbl>\u001b[39m\u001b[23m 1, 0, 0, 0, 0, 0, 0, 0, 0, 1, 0, 0, 1, 0, 1, 0, 0, 0, …\n",
      "$ restecg         \u001b[3m\u001b[90m<dbl>\u001b[39m\u001b[23m 2, 2, 2, 0, 2, 0, 2, 0, 2, 2, 0, 2, 2, 0, 0, 0, 0, 0, …\n",
      "$ thalach         \u001b[3m\u001b[90m<dbl>\u001b[39m\u001b[23m 150, 108, 129, 187, 172, 178, 160, 163, 147, 155, 148,…\n",
      "$ exang           \u001b[3m\u001b[90m<dbl>\u001b[39m\u001b[23m 0, 1, 1, 0, 0, 0, 0, 1, 0, 1, 0, 0, 1, 0, 0, 0, 0, 0, …\n",
      "$ oldpeak         \u001b[3m\u001b[90m<dbl>\u001b[39m\u001b[23m 2.3, 1.5, 2.6, 3.5, 1.4, 0.8, 3.6, 0.6, 1.4, 3.1, 0.4,…\n",
      "$ slope           \u001b[3m\u001b[90m<dbl>\u001b[39m\u001b[23m 3, 2, 2, 3, 1, 1, 3, 1, 2, 3, 2, 2, 2, 1, 1, 1, 3, 1, …\n",
      "$ ca              \u001b[3m\u001b[90m<chr>\u001b[39m\u001b[23m \"0.0\", \"3.0\", \"2.0\", \"0.0\", \"0.0\", \"0.0\", \"2.0\", \"0.0\"…\n",
      "$ thal            \u001b[3m\u001b[90m<chr>\u001b[39m\u001b[23m \"6.0\", \"3.0\", \"7.0\", \"3.0\", \"3.0\", \"3.0\", \"3.0\", \"3.0\"…\n",
      "$ diagnosis       \u001b[3m\u001b[90m<dbl>\u001b[39m\u001b[23m 0, 2, 1, 0, 0, 0, 3, 0, 2, 1, 0, 0, 2, 0, 0, 0, 1, 0, …\n"
     ]
    }
   ],
   "source": [
    "#Renaming columns:\n",
    "\n",
    "cleveland_data <- rename(cleveland_data,\n",
    "       age = X1,\n",
    "       sex = X2,\n",
    "       chest_pain_type = X3,\n",
    "       trestbps = X4,\n",
    "       chol = X5,\n",
    "       fbs = X6,    \n",
    "       restecg = X7,\n",
    "       thalach = X8,\n",
    "       exang = X9,\n",
    "       oldpeak = X10,\n",
    "       slope = X11,\n",
    "       ca = X12,\n",
    "       thal = X13,\n",
    "       diagnosis = X14)\n",
    "\n",
    "#skipping rows with missing values\n",
    "cleveland_data<- cleveland_data |> drop_na()\n",
    "\n",
    "glimpse(cleveland_data)"
   ]
  },
  {
   "cell_type": "code",
   "execution_count": 17,
   "id": "43ecd8d0-5ca5-400d-9763-9e99e6daed25",
   "metadata": {},
   "outputs": [
    {
     "name": "stderr",
     "output_type": "stream",
     "text": [
      "Warning message:\n",
      "“\u001b[1m\u001b[22mThere was 1 warning in `mutate()`.\n",
      "\u001b[1m\u001b[22m\u001b[36mℹ\u001b[39m In argument: `slope = fct_recode(thal, upsloping = \"1\", flat = \"2\",\n",
      "  downsloping = \"3\")`.\n",
      "Caused by warning:\n",
      "\u001b[33m!\u001b[39m Unknown levels in `f`: 1, 2, 3”\n"
     ]
    },
    {
     "name": "stdout",
     "output_type": "stream",
     "text": [
      "Rows: 303\n",
      "Columns: 14\n",
      "$ age             \u001b[3m\u001b[90m<dbl>\u001b[39m\u001b[23m 63, 67, 67, 37, 41, 56, 62, 57, 63, 53, 57, 56, 56, 44…\n",
      "$ sex             \u001b[3m\u001b[90m<fct>\u001b[39m\u001b[23m male, male, male, male, female, male, female, female, …\n",
      "$ chest_pain_type \u001b[3m\u001b[90m<fct>\u001b[39m\u001b[23m typical angina, asymptomatic, asymptomatic, non-angina…\n",
      "$ trestbps        \u001b[3m\u001b[90m<dbl>\u001b[39m\u001b[23m 145, 160, 120, 130, 130, 120, 140, 120, 130, 140, 140,…\n",
      "$ chol            \u001b[3m\u001b[90m<dbl>\u001b[39m\u001b[23m 233, 286, 229, 250, 204, 236, 268, 354, 254, 203, 192,…\n",
      "$ fbs             \u001b[3m\u001b[90m<fct>\u001b[39m\u001b[23m true, false, false, false, false, false, false, false,…\n",
      "$ restecg         \u001b[3m\u001b[90m<dbl>\u001b[39m\u001b[23m 2, 2, 2, 0, 2, 0, 2, 0, 2, 2, 0, 2, 2, 0, 0, 0, 0, 0, …\n",
      "$ thalach         \u001b[3m\u001b[90m<dbl>\u001b[39m\u001b[23m 150, 108, 129, 187, 172, 178, 160, 163, 147, 155, 148,…\n",
      "$ exang           \u001b[3m\u001b[90m<fct>\u001b[39m\u001b[23m no, yes, yes, no, no, no, no, yes, no, yes, no, no, ye…\n",
      "$ oldpeak         \u001b[3m\u001b[90m<dbl>\u001b[39m\u001b[23m 2.3, 1.5, 2.6, 3.5, 1.4, 0.8, 3.6, 0.6, 1.4, 3.1, 0.4,…\n",
      "$ slope           \u001b[3m\u001b[90m<fct>\u001b[39m\u001b[23m 6.0, 3.0, 7.0, 3.0, 3.0, 3.0, 3.0, 3.0, 7.0, 7.0, 6.0,…\n",
      "$ ca              \u001b[3m\u001b[90m<chr>\u001b[39m\u001b[23m \"0.0\", \"3.0\", \"2.0\", \"0.0\", \"0.0\", \"0.0\", \"2.0\", \"0.0\"…\n",
      "$ thal            \u001b[3m\u001b[90m<fct>\u001b[39m\u001b[23m fixed defect, normal, reversible defect, normal, norma…\n",
      "$ diagnosis       \u001b[3m\u001b[90m<fct>\u001b[39m\u001b[23m absent, present, present, absent, absent, absent, pres…\n"
     ]
    }
   ],
   "source": [
    "#renaming categorical variables:\n",
    "\n",
    "#renaming sex values\n",
    "cleveland_data <- cleveland_data |>\n",
    "mutate(sex = as_factor(sex))|>\n",
    "mutate(sex = fct_recode(sex, \"female\" = \"0\", \n",
    "                            \"male\" = \"1\"))\n",
    "#renaming chest pain values\n",
    "cleveland_data <- cleveland_data |>\n",
    "mutate(chest_pain_type = as_factor(chest_pain_type))|>\n",
    "mutate(chest_pain_type = fct_recode(chest_pain_type, \n",
    "                            \"typical angina\" = \"1\", \n",
    "                            \"atypical angina\" = \"2\", \n",
    "                            \"non-anginal_pain\" = \"3\", \n",
    "                            \"asymptomatic\" = \"4\"))\n",
    "#renaming fbs values\n",
    "cleveland_data <- cleveland_data |>\n",
    "mutate(fbs = as_factor(fbs))|>\n",
    "mutate(fbs = fct_recode(fbs, \"false\" = \"0\", \n",
    "                            \"true\" = \"1\"))\n",
    "\n",
    "#renaming exang values\n",
    "cleveland_data <- cleveland_data |>\n",
    "mutate(exang = as_factor(exang))|>\n",
    "mutate(exang = fct_recode(exang, \"no\" = \"0\", \n",
    "                            \"yes\" = \"1\"))\n",
    "#renaming slope values\n",
    "cleveland_data <- cleveland_data |>\n",
    "mutate(slope = as_factor(slope))|>\n",
    "mutate(slope = fct_recode(thal,\"upsloping\" = \"1\", \n",
    "                            \"flat\" = \"2\", \n",
    "                            \"downsloping\" = \"3\"))\n",
    "#renaming thal values\n",
    "cleveland_data <- cleveland_data |>\n",
    "mutate(thal = as_factor(thal))|>\n",
    "mutate(thal = fct_recode(thal, \"reversible defect\" = \"7.0\", \n",
    "                            \"fixed defect\" = \"6.0\", \n",
    "                            \"normal\" = \"3.0\"))\n",
    "#renaming diagnosis values\n",
    "cleveland_data <- cleveland_data |>\n",
    "mutate(diagnosis = as_factor(diagnosis))|>\n",
    "mutate(diagnosis = fct_recode(diagnosis, \n",
    "                            \"absent\" = \"0\",\n",
    "                              \"present\" = \"1\", \n",
    "                            \"present\" = \"2\", \n",
    "                            \"present\" = \"3\", \n",
    "                            \"present\" = \"4\"))\n",
    "\n",
    "glimpse(cleveland_data)"
   ]
  },
  {
   "cell_type": "markdown",
   "id": "c7fcf9f6-f6f3-4bd3-ab97-08b52fd8c29a",
   "metadata": {},
   "source": [
    "We then want to filter our dataset to only include the diagnosis and variables that we want to observe which are age, chol, tresbps and thalach."
   ]
  },
  {
   "cell_type": "code",
   "execution_count": 18,
   "id": "b07cdfdc-ee86-495d-a3f0-32439eef20a6",
   "metadata": {},
   "outputs": [
    {
     "data": {
      "text/html": [
       "<table class=\"dataframe\">\n",
       "<caption>A tibble: 303 × 5</caption>\n",
       "<thead>\n",
       "\t<tr><th scope=col>age</th><th scope=col>trestbps</th><th scope=col>chol</th><th scope=col>thalach</th><th scope=col>diagnosis</th></tr>\n",
       "\t<tr><th scope=col>&lt;dbl&gt;</th><th scope=col>&lt;dbl&gt;</th><th scope=col>&lt;dbl&gt;</th><th scope=col>&lt;dbl&gt;</th><th scope=col>&lt;fct&gt;</th></tr>\n",
       "</thead>\n",
       "<tbody>\n",
       "\t<tr><td>63</td><td>145</td><td>233</td><td>150</td><td>absent </td></tr>\n",
       "\t<tr><td>67</td><td>160</td><td>286</td><td>108</td><td>present</td></tr>\n",
       "\t<tr><td>67</td><td>120</td><td>229</td><td>129</td><td>present</td></tr>\n",
       "\t<tr><td>37</td><td>130</td><td>250</td><td>187</td><td>absent </td></tr>\n",
       "\t<tr><td>41</td><td>130</td><td>204</td><td>172</td><td>absent </td></tr>\n",
       "\t<tr><td>⋮</td><td>⋮</td><td>⋮</td><td>⋮</td><td>⋮</td></tr>\n",
       "\t<tr><td>45</td><td>110</td><td>264</td><td>132</td><td>present</td></tr>\n",
       "\t<tr><td>68</td><td>144</td><td>193</td><td>141</td><td>present</td></tr>\n",
       "\t<tr><td>57</td><td>130</td><td>131</td><td>115</td><td>present</td></tr>\n",
       "\t<tr><td>57</td><td>130</td><td>236</td><td>174</td><td>present</td></tr>\n",
       "\t<tr><td>38</td><td>138</td><td>175</td><td>173</td><td>absent </td></tr>\n",
       "</tbody>\n",
       "</table>\n"
      ],
      "text/latex": [
       "A tibble: 303 × 5\n",
       "\\begin{tabular}{lllll}\n",
       " age & trestbps & chol & thalach & diagnosis\\\\\n",
       " <dbl> & <dbl> & <dbl> & <dbl> & <fct>\\\\\n",
       "\\hline\n",
       "\t 63 & 145 & 233 & 150 & absent \\\\\n",
       "\t 67 & 160 & 286 & 108 & present\\\\\n",
       "\t 67 & 120 & 229 & 129 & present\\\\\n",
       "\t 37 & 130 & 250 & 187 & absent \\\\\n",
       "\t 41 & 130 & 204 & 172 & absent \\\\\n",
       "\t ⋮ & ⋮ & ⋮ & ⋮ & ⋮\\\\\n",
       "\t 45 & 110 & 264 & 132 & present\\\\\n",
       "\t 68 & 144 & 193 & 141 & present\\\\\n",
       "\t 57 & 130 & 131 & 115 & present\\\\\n",
       "\t 57 & 130 & 236 & 174 & present\\\\\n",
       "\t 38 & 138 & 175 & 173 & absent \\\\\n",
       "\\end{tabular}\n"
      ],
      "text/markdown": [
       "\n",
       "A tibble: 303 × 5\n",
       "\n",
       "| age &lt;dbl&gt; | trestbps &lt;dbl&gt; | chol &lt;dbl&gt; | thalach &lt;dbl&gt; | diagnosis &lt;fct&gt; |\n",
       "|---|---|---|---|---|\n",
       "| 63 | 145 | 233 | 150 | absent  |\n",
       "| 67 | 160 | 286 | 108 | present |\n",
       "| 67 | 120 | 229 | 129 | present |\n",
       "| 37 | 130 | 250 | 187 | absent  |\n",
       "| 41 | 130 | 204 | 172 | absent  |\n",
       "| ⋮ | ⋮ | ⋮ | ⋮ | ⋮ |\n",
       "| 45 | 110 | 264 | 132 | present |\n",
       "| 68 | 144 | 193 | 141 | present |\n",
       "| 57 | 130 | 131 | 115 | present |\n",
       "| 57 | 130 | 236 | 174 | present |\n",
       "| 38 | 138 | 175 | 173 | absent  |\n",
       "\n"
      ],
      "text/plain": [
       "    age trestbps chol thalach diagnosis\n",
       "1   63  145      233  150     absent   \n",
       "2   67  160      286  108     present  \n",
       "3   67  120      229  129     present  \n",
       "4   37  130      250  187     absent   \n",
       "5   41  130      204  172     absent   \n",
       "⋮   ⋮   ⋮        ⋮    ⋮       ⋮        \n",
       "299 45  110      264  132     present  \n",
       "300 68  144      193  141     present  \n",
       "301 57  130      131  115     present  \n",
       "302 57  130      236  174     present  \n",
       "303 38  138      175  173     absent   "
      ]
     },
     "metadata": {},
     "output_type": "display_data"
    }
   ],
   "source": [
    "cleveland_data_select <- select(cleveland_data, age, trestbps, chol, thalach, diagnosis)\n",
    "cleveland_data_select"
   ]
  },
  {
   "cell_type": "markdown",
   "id": "8475cfe7-6b84-4e7d-bda7-b38096371fd4",
   "metadata": {},
   "source": [
    "Now that our data is tidy and filtered, we can split it into a training set to construct our model, and a testing set to test our model's effectiveness."
   ]
  },
  {
   "cell_type": "code",
   "execution_count": 19,
   "id": "4ecc2e4a-3027-448a-879c-b07536e13ac2",
   "metadata": {},
   "outputs": [
    {
     "data": {
      "text/html": [
       "<table class=\"dataframe\">\n",
       "<caption>A tibble: 227 × 5</caption>\n",
       "<thead>\n",
       "\t<tr><th scope=col>age</th><th scope=col>trestbps</th><th scope=col>chol</th><th scope=col>thalach</th><th scope=col>diagnosis</th></tr>\n",
       "\t<tr><th scope=col>&lt;dbl&gt;</th><th scope=col>&lt;dbl&gt;</th><th scope=col>&lt;dbl&gt;</th><th scope=col>&lt;dbl&gt;</th><th scope=col>&lt;fct&gt;</th></tr>\n",
       "</thead>\n",
       "<tbody>\n",
       "\t<tr><td>37</td><td>130</td><td>250</td><td>187</td><td>absent</td></tr>\n",
       "\t<tr><td>41</td><td>130</td><td>204</td><td>172</td><td>absent</td></tr>\n",
       "\t<tr><td>56</td><td>120</td><td>236</td><td>178</td><td>absent</td></tr>\n",
       "\t<tr><td>57</td><td>120</td><td>354</td><td>163</td><td>absent</td></tr>\n",
       "\t<tr><td>57</td><td>140</td><td>192</td><td>148</td><td>absent</td></tr>\n",
       "\t<tr><td>⋮</td><td>⋮</td><td>⋮</td><td>⋮</td><td>⋮</td></tr>\n",
       "\t<tr><td>59</td><td>164</td><td>176</td><td> 90</td><td>present</td></tr>\n",
       "\t<tr><td>45</td><td>110</td><td>264</td><td>132</td><td>present</td></tr>\n",
       "\t<tr><td>68</td><td>144</td><td>193</td><td>141</td><td>present</td></tr>\n",
       "\t<tr><td>57</td><td>130</td><td>131</td><td>115</td><td>present</td></tr>\n",
       "\t<tr><td>57</td><td>130</td><td>236</td><td>174</td><td>present</td></tr>\n",
       "</tbody>\n",
       "</table>\n"
      ],
      "text/latex": [
       "A tibble: 227 × 5\n",
       "\\begin{tabular}{lllll}\n",
       " age & trestbps & chol & thalach & diagnosis\\\\\n",
       " <dbl> & <dbl> & <dbl> & <dbl> & <fct>\\\\\n",
       "\\hline\n",
       "\t 37 & 130 & 250 & 187 & absent\\\\\n",
       "\t 41 & 130 & 204 & 172 & absent\\\\\n",
       "\t 56 & 120 & 236 & 178 & absent\\\\\n",
       "\t 57 & 120 & 354 & 163 & absent\\\\\n",
       "\t 57 & 140 & 192 & 148 & absent\\\\\n",
       "\t ⋮ & ⋮ & ⋮ & ⋮ & ⋮\\\\\n",
       "\t 59 & 164 & 176 &  90 & present\\\\\n",
       "\t 45 & 110 & 264 & 132 & present\\\\\n",
       "\t 68 & 144 & 193 & 141 & present\\\\\n",
       "\t 57 & 130 & 131 & 115 & present\\\\\n",
       "\t 57 & 130 & 236 & 174 & present\\\\\n",
       "\\end{tabular}\n"
      ],
      "text/markdown": [
       "\n",
       "A tibble: 227 × 5\n",
       "\n",
       "| age &lt;dbl&gt; | trestbps &lt;dbl&gt; | chol &lt;dbl&gt; | thalach &lt;dbl&gt; | diagnosis &lt;fct&gt; |\n",
       "|---|---|---|---|---|\n",
       "| 37 | 130 | 250 | 187 | absent |\n",
       "| 41 | 130 | 204 | 172 | absent |\n",
       "| 56 | 120 | 236 | 178 | absent |\n",
       "| 57 | 120 | 354 | 163 | absent |\n",
       "| 57 | 140 | 192 | 148 | absent |\n",
       "| ⋮ | ⋮ | ⋮ | ⋮ | ⋮ |\n",
       "| 59 | 164 | 176 |  90 | present |\n",
       "| 45 | 110 | 264 | 132 | present |\n",
       "| 68 | 144 | 193 | 141 | present |\n",
       "| 57 | 130 | 131 | 115 | present |\n",
       "| 57 | 130 | 236 | 174 | present |\n",
       "\n"
      ],
      "text/plain": [
       "    age trestbps chol thalach diagnosis\n",
       "1   37  130      250  187     absent   \n",
       "2   41  130      204  172     absent   \n",
       "3   56  120      236  178     absent   \n",
       "4   57  120      354  163     absent   \n",
       "5   57  140      192  148     absent   \n",
       "⋮   ⋮   ⋮        ⋮    ⋮       ⋮        \n",
       "223 59  164      176   90     present  \n",
       "224 45  110      264  132     present  \n",
       "225 68  144      193  141     present  \n",
       "226 57  130      131  115     present  \n",
       "227 57  130      236  174     present  "
      ]
     },
     "metadata": {},
     "output_type": "display_data"
    },
    {
     "data": {
      "text/html": [
       "<table class=\"dataframe\">\n",
       "<caption>A tibble: 76 × 5</caption>\n",
       "<thead>\n",
       "\t<tr><th scope=col>age</th><th scope=col>trestbps</th><th scope=col>chol</th><th scope=col>thalach</th><th scope=col>diagnosis</th></tr>\n",
       "\t<tr><th scope=col>&lt;dbl&gt;</th><th scope=col>&lt;dbl&gt;</th><th scope=col>&lt;dbl&gt;</th><th scope=col>&lt;dbl&gt;</th><th scope=col>&lt;fct&gt;</th></tr>\n",
       "</thead>\n",
       "<tbody>\n",
       "\t<tr><td>63</td><td>145</td><td>233</td><td>150</td><td>absent </td></tr>\n",
       "\t<tr><td>62</td><td>140</td><td>268</td><td>160</td><td>present</td></tr>\n",
       "\t<tr><td>53</td><td>140</td><td>203</td><td>155</td><td>present</td></tr>\n",
       "\t<tr><td>52</td><td>172</td><td>199</td><td>162</td><td>absent </td></tr>\n",
       "\t<tr><td>48</td><td>110</td><td>229</td><td>168</td><td>present</td></tr>\n",
       "\t<tr><td>⋮</td><td>⋮</td><td>⋮</td><td>⋮</td><td>⋮</td></tr>\n",
       "\t<tr><td>59</td><td>134</td><td>204</td><td>162</td><td>present</td></tr>\n",
       "\t<tr><td>66</td><td>146</td><td>278</td><td>152</td><td>absent </td></tr>\n",
       "\t<tr><td>47</td><td>130</td><td>253</td><td>179</td><td>absent </td></tr>\n",
       "\t<tr><td>67</td><td>152</td><td>212</td><td>150</td><td>present</td></tr>\n",
       "\t<tr><td>57</td><td>140</td><td>241</td><td>123</td><td>present</td></tr>\n",
       "</tbody>\n",
       "</table>\n"
      ],
      "text/latex": [
       "A tibble: 76 × 5\n",
       "\\begin{tabular}{lllll}\n",
       " age & trestbps & chol & thalach & diagnosis\\\\\n",
       " <dbl> & <dbl> & <dbl> & <dbl> & <fct>\\\\\n",
       "\\hline\n",
       "\t 63 & 145 & 233 & 150 & absent \\\\\n",
       "\t 62 & 140 & 268 & 160 & present\\\\\n",
       "\t 53 & 140 & 203 & 155 & present\\\\\n",
       "\t 52 & 172 & 199 & 162 & absent \\\\\n",
       "\t 48 & 110 & 229 & 168 & present\\\\\n",
       "\t ⋮ & ⋮ & ⋮ & ⋮ & ⋮\\\\\n",
       "\t 59 & 134 & 204 & 162 & present\\\\\n",
       "\t 66 & 146 & 278 & 152 & absent \\\\\n",
       "\t 47 & 130 & 253 & 179 & absent \\\\\n",
       "\t 67 & 152 & 212 & 150 & present\\\\\n",
       "\t 57 & 140 & 241 & 123 & present\\\\\n",
       "\\end{tabular}\n"
      ],
      "text/markdown": [
       "\n",
       "A tibble: 76 × 5\n",
       "\n",
       "| age &lt;dbl&gt; | trestbps &lt;dbl&gt; | chol &lt;dbl&gt; | thalach &lt;dbl&gt; | diagnosis &lt;fct&gt; |\n",
       "|---|---|---|---|---|\n",
       "| 63 | 145 | 233 | 150 | absent  |\n",
       "| 62 | 140 | 268 | 160 | present |\n",
       "| 53 | 140 | 203 | 155 | present |\n",
       "| 52 | 172 | 199 | 162 | absent  |\n",
       "| 48 | 110 | 229 | 168 | present |\n",
       "| ⋮ | ⋮ | ⋮ | ⋮ | ⋮ |\n",
       "| 59 | 134 | 204 | 162 | present |\n",
       "| 66 | 146 | 278 | 152 | absent  |\n",
       "| 47 | 130 | 253 | 179 | absent  |\n",
       "| 67 | 152 | 212 | 150 | present |\n",
       "| 57 | 140 | 241 | 123 | present |\n",
       "\n"
      ],
      "text/plain": [
       "   age trestbps chol thalach diagnosis\n",
       "1  63  145      233  150     absent   \n",
       "2  62  140      268  160     present  \n",
       "3  53  140      203  155     present  \n",
       "4  52  172      199  162     absent   \n",
       "5  48  110      229  168     present  \n",
       "⋮  ⋮   ⋮        ⋮    ⋮       ⋮        \n",
       "72 59  134      204  162     present  \n",
       "73 66  146      278  152     absent   \n",
       "74 47  130      253  179     absent   \n",
       "75 67  152      212  150     present  \n",
       "76 57  140      241  123     present  "
      ]
     },
     "metadata": {},
     "output_type": "display_data"
    }
   ],
   "source": [
    "#splitting data into training and testing sets\n",
    "\n",
    "cleveland_data_split <- initial_split(cleveland_data_select, prop = 0.75, strata = diagnosis)\n",
    "training_set <- training(cleveland_data_split)\n",
    "testing_set <- testing(cleveland_data_split)\n",
    "\n",
    "training_set\n",
    "testing_set"
   ]
  },
  {
   "cell_type": "markdown",
   "id": "f06b42f8-3910-450f-899c-36047b609038",
   "metadata": {},
   "source": [
    "Below is a table conducting exploratory analysis on our training dataset. This table tells us the number and percentage of observations in each class group (whether there is a presence/absence of heart disease)."
   ]
  },
  {
   "cell_type": "code",
   "execution_count": 20,
   "id": "8a92a4df-f9b4-4918-a842-3500d22dd3d9",
   "metadata": {},
   "outputs": [
    {
     "data": {
      "text/html": [
       "<table class=\"dataframe\">\n",
       "<caption>A tibble: 2 × 3</caption>\n",
       "<thead>\n",
       "\t<tr><th scope=col>diagnosis</th><th scope=col>count</th><th scope=col>percentage</th></tr>\n",
       "\t<tr><th scope=col>&lt;fct&gt;</th><th scope=col>&lt;int&gt;</th><th scope=col>&lt;dbl&gt;</th></tr>\n",
       "</thead>\n",
       "<tbody>\n",
       "\t<tr><td>absent </td><td>123</td><td>54.18502</td></tr>\n",
       "\t<tr><td>present</td><td>104</td><td>45.81498</td></tr>\n",
       "</tbody>\n",
       "</table>\n"
      ],
      "text/latex": [
       "A tibble: 2 × 3\n",
       "\\begin{tabular}{lll}\n",
       " diagnosis & count & percentage\\\\\n",
       " <fct> & <int> & <dbl>\\\\\n",
       "\\hline\n",
       "\t absent  & 123 & 54.18502\\\\\n",
       "\t present & 104 & 45.81498\\\\\n",
       "\\end{tabular}\n"
      ],
      "text/markdown": [
       "\n",
       "A tibble: 2 × 3\n",
       "\n",
       "| diagnosis &lt;fct&gt; | count &lt;int&gt; | percentage &lt;dbl&gt; |\n",
       "|---|---|---|\n",
       "| absent  | 123 | 54.18502 |\n",
       "| present | 104 | 45.81498 |\n",
       "\n"
      ],
      "text/plain": [
       "  diagnosis count percentage\n",
       "1 absent    123   54.18502  \n",
       "2 present   104   45.81498  "
      ]
     },
     "metadata": {},
     "output_type": "display_data"
    }
   ],
   "source": [
    "num_obs <- nrow(training_set)\n",
    "training_set |>\n",
    "  group_by(diagnosis) |>\n",
    "  summarize(\n",
    "    count = n(),\n",
    "    percentage = n() / num_obs * 100)"
   ]
  }
 ],
 "metadata": {
  "kernelspec": {
   "display_name": "R",
   "language": "R",
   "name": "ir"
  },
  "language_info": {
   "codemirror_mode": "r",
   "file_extension": ".r",
   "mimetype": "text/x-r-source",
   "name": "R",
   "pygments_lexer": "r",
   "version": "4.3.1"
  }
 },
 "nbformat": 4,
 "nbformat_minor": 5
}
