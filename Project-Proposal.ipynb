{
 "cells": [
  {
   "cell_type": "markdown",
   "id": "1e95ebb6",
   "metadata": {},
   "source": [
    "**Data Science Section 002 Group 7 Project Proposal**"
   ]
  },
  {
   "cell_type": "markdown",
   "id": "f775f6be-4b81-4c47-b6f9-c4266d75a2dd",
   "metadata": {},
   "source": [
    "**Predicting the Presence or Absence of Heart Disease based on Specific Variables.**"
   ]
  },
  {
   "cell_type": "markdown",
   "id": "92c21a02-64c6-480a-aa1f-f5ab5d2b656e",
   "metadata": {},
   "source": [
    "Predictive data analysis plays an important role in the field of medical diagnostics. As cardiovascular disease continues to be a leading cause of global mortality, the development of efficient predictive models becomes crucial for detection and intervention. In this analysis, we will be predicting the presence or absence of heart disease in patients using the key parameters of age, cholesterol levels, and resting blood pressure.\n",
    "\n",
    "For this analysis, we will be using the Heart Disease dataset from the UCI Machine Learning Repository, and focusing on the Cleveland database. The original database contains 76 attributes, but a version containing a subset of only 14 of those attributes will be used for this analysis.\n",
    "\n",
    "By the end of this analysis, we expect to gain insight into the complex relationships between our chosen variables and the presence of heart disease in patients. Such findings would contribute to medical research regarding cardiovascular disease by providing insight into trends in the broader population of where the data was collected. Furthermore, this insight would allow healthcare systems to identify and focus on individuals at higher risk of heart diseases, and enable earlier intervention, improving patient outcomes. This insight could also contribute to reduced healthcare costs, as early detection and intervention could reduce the need for costly medical procedures associated with later stages of heart disease. A variety of questions could arise from the results of this analysis as well, such as whether the accuracy of the model could be improved using other information. For example, one could inquire about how lifestyle and behavioral factors such as smoking habits, exercise and diet interact with cholesterol, age, and blood pressure to influence the risk of heart disease in patients. We could also question whether the model and its findings generalize to different populations, and discuss how to make the model applicable and effective for more diverse populations. \n",
    "\n"
   ]
  },
  {
   "cell_type": "markdown",
   "id": "fd782e7e-eb3f-450a-bc0b-54f56e55bc07",
   "metadata": {},
   "source": [
    "To gain access to useful functions for reading and analysing our data, the following libraries must be installed:"
   ]
  },
  {
   "cell_type": "code",
   "execution_count": null,
   "id": "d9c79c5a-ab75-4971-8a5d-9c6152d60dd3",
   "metadata": {},
   "outputs": [],
   "source": [
    "library(tidyverse)\n",
    "library(tidymodels)"
   ]
  },
  {
   "cell_type": "markdown",
   "id": "5fcbe4de-13e8-4381-b885-f2338eb79074",
   "metadata": {},
   "source": [
    "We can now read our dataset into R and assign it to an object called cleveland_data."
   ]
  },
  {
   "cell_type": "code",
   "execution_count": null,
   "id": "52670144-7f63-4ac3-88c2-312809960141",
   "metadata": {},
   "outputs": [],
   "source": [
    "#Demostration that the dataset can be read from the web into R:\n",
    "\n",
    "cleveland_data<- read_delim(\"data/processed.cleveland.data\", delim=\",\", col_names = FALSE)\n",
    "cleveland_data"
   ]
  },
  {
   "cell_type": "code",
   "execution_count": null,
   "id": "9f7817af-6394-4c03-ab23-e160e85d02c6",
   "metadata": {},
   "outputs": [],
   "source": [
    "#Renaming columns:\n",
    "\n",
    "cleveland_data <- rename(cleveland_data,\n",
    "       age = X1,\n",
    "       sex = X2,\n",
    "       chest_pain_type = X3,\n",
    "       trestbps = X4,\n",
    "       chol = X5,\n",
    "       fbs = X6,    \n",
    "       restecg = X7,\n",
    "       thalach = X8,\n",
    "       exang = X9,\n",
    "       oldpeak = X10,\n",
    "       slope = X11,\n",
    "       ca = X12,\n",
    "       thal = X13,\n",
    "       diagnosis = X14)\n",
    "\n",
    "#skipping rows with missing values\n",
    "cleveland_data<- cleveland_data |> drop_na()\n",
    "\n",
    "glimpse(cleveland_data)"
   ]
  },
  {
   "cell_type": "code",
   "execution_count": null,
   "id": "43ecd8d0-5ca5-400d-9763-9e99e6daed25",
   "metadata": {},
   "outputs": [],
   "source": [
    "#renaming categorical variables(this might be unneccessary though \n",
    "#since we won't be using them all but idk):\n",
    "\n",
    "#renaming sex values\n",
    "cleveland_data <- cleveland_data |>\n",
    "mutate(sex = as_factor(sex))|>\n",
    "mutate(sex = fct_recode(sex, \"female\" = \"0\", \n",
    "                            \"male\" = \"1\"))\n",
    "#renaming chest pain values\n",
    "cleveland_data <- cleveland_data |>\n",
    "mutate(chest_pain_type = as_factor(chest_pain_type))|>\n",
    "mutate(chest_pain_type = fct_recode(chest_pain_type, \n",
    "                            \"typical angina\" = \"1\", \n",
    "                            \"atypical angina\" = \"2\", \n",
    "                            \"non-anginal_pain\" = \"3\", \n",
    "                            \"asymptomatic\" = \"4\"))\n",
    "#renaming fbs values\n",
    "cleveland_data <- cleveland_data |>\n",
    "mutate(fbs = as_factor(fbs))|>\n",
    "mutate(fbs = fct_recode(fbs, \"false\" = \"0\", \n",
    "                            \"true\" = \"1\"))\n",
    "\n",
    "#renaming exang values\n",
    "cleveland_data <- cleveland_data |>\n",
    "mutate(exang = as_factor(exang))|>\n",
    "mutate(exang = fct_recode(exang, \"no\" = \"0\", \n",
    "                            \"yes\" = \"1\"))\n",
    "#renaming slope values\n",
    "cleveland_data <- cleveland_data |>\n",
    "mutate(slope = as_factor(slope))|>\n",
    "mutate(slope = fct_recode(thal,\"upsloping\" = \"1\", \n",
    "                            \"flat\" = \"2\", \n",
    "                            \"downsloping\" = \"3\"))\n",
    "#renaming thal values\n",
    "cleveland_data <- cleveland_data |>\n",
    "mutate(thal = as_factor(thal))|>\n",
    "mutate(thal = fct_recode(thal, \"reversible defect\" = \"7.0\", \n",
    "                            \"fixed defect\" = \"6.0\", \n",
    "                            \"normal\" = \"3.0\"))\n",
    "#renaming diagnosis values\n",
    "cleveland_data <- cleveland_data |>\n",
    "mutate(diagnosis = as_factor(diagnosis))|>\n",
    "mutate(diagnosis = fct_recode(diagnosis, \n",
    "                            \"absent\" = \"0\",\n",
    "                              \"present\" = \"1\", \n",
    "                            \"present\" = \"2\", \n",
    "                            \"present\" = \"3\", \n",
    "                            \"present\" = \"4\"))\n",
    "\n",
    "glimpse(cleveland_data)"
   ]
  },
  {
   "cell_type": "code",
   "execution_count": null,
   "id": "4ecc2e4a-3027-448a-879c-b07536e13ac2",
   "metadata": {},
   "outputs": [],
   "source": [
    "#splitting data into training and testing sets\n",
    "cleveland_data_split <- initial_split(cleveland_data, prop = 0.75, strata = diagnosis)\n",
    "training_set <- training(cleveland_data_split)\n",
    "testing_test <- testing(cleveland_data_split)"
   ]
  }
 ],
 "metadata": {
  "kernelspec": {
   "display_name": "R",
   "language": "R",
   "name": "ir"
  },
  "language_info": {
   "codemirror_mode": "r",
   "file_extension": ".r",
   "mimetype": "text/x-r-source",
   "name": "R",
   "pygments_lexer": "r",
   "version": "4.3.1"
  }
 },
 "nbformat": 4,
 "nbformat_minor": 5
}
