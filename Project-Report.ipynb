{
 "cells": [
  {
   "cell_type": "markdown",
   "id": "0ef5b699-f5e9-418d-90b7-b3ffe0f008f7",
   "metadata": {},
   "source": [
    "<font size=\"5\">**Data Science Section 002 Group 7 Project Report**"
   ]
  },
  {
   "cell_type": "markdown",
   "id": "039f1fc0-e880-49f3-b69c-5265b11be9a5",
   "metadata": {},
   "source": [
    "<font size=\"3\">**Research question:** How do the variables age, resting blood pressure, serum cholesterol, and maximum heart rate achieved affect the accuracy of a knn-classification model predicting the presence or absence of heart disease in individuals?"
   ]
  },
  {
   "cell_type": "markdown",
   "id": "ea923517-6f69-469e-b966-4305e7f8923e",
   "metadata": {},
   "source": [
    "Predictive data analysis plays an important role in the field of medical diagnostics. As cardiovascular disease continues to be a leading cause of global mortality, the development of efficient predictive models becomes crucial for detection and intervention. This analysis focuses on predicting the presence or absence of heart disease using key parameters from the Heart Disease dataset (Cleveland database) available on the UCI Machine Learning Repository. The original database contains 76 attributes, but a version containing a subset of only 14 of those attributes will be used for this analysis. Out of those 14 variables, only 5 are chosen for observation in our project: age (age), resting blood pressure (trestbps), serum cholesterol (chol), maximum heart rate achieved (thalach), and our predicted variable, the diagnosis of heart disease (num, renamed \"diagnosis\")."
   ]
  },
  {
   "cell_type": "markdown",
   "id": "65de1d5e-f177-4b5b-974b-e97a17e621be",
   "metadata": {},
   "source": [
    "To further understand our data, some preliminary exploratory data analysis is conducted below. To gain access to useful functions for reading and analyzing our data, the following libraries must be installed:"
   ]
  },
  {
   "cell_type": "code",
   "execution_count": 2,
   "id": "9c69f7fb-72cb-4747-b270-c7e92b08da72",
   "metadata": {},
   "outputs": [
    {
     "name": "stderr",
     "output_type": "stream",
     "text": [
      "Warning message:\n",
      "“package ‘ggplot2’ was built under R version 4.3.2”\n",
      "── \u001b[1mAttaching core tidyverse packages\u001b[22m ──────────────────────── tidyverse 2.0.0 ──\n",
      "\u001b[32m✔\u001b[39m \u001b[34mdplyr    \u001b[39m 1.1.3     \u001b[32m✔\u001b[39m \u001b[34mreadr    \u001b[39m 2.1.4\n",
      "\u001b[32m✔\u001b[39m \u001b[34mforcats  \u001b[39m 1.0.0     \u001b[32m✔\u001b[39m \u001b[34mstringr  \u001b[39m 1.5.0\n",
      "\u001b[32m✔\u001b[39m \u001b[34mggplot2  \u001b[39m 3.5.0     \u001b[32m✔\u001b[39m \u001b[34mtibble   \u001b[39m 3.2.1\n",
      "\u001b[32m✔\u001b[39m \u001b[34mlubridate\u001b[39m 1.9.2     \u001b[32m✔\u001b[39m \u001b[34mtidyr    \u001b[39m 1.3.0\n",
      "\u001b[32m✔\u001b[39m \u001b[34mpurrr    \u001b[39m 1.0.2     \n",
      "── \u001b[1mConflicts\u001b[22m ────────────────────────────────────────── tidyverse_conflicts() ──\n",
      "\u001b[31m✖\u001b[39m \u001b[34mdplyr\u001b[39m::\u001b[32mfilter()\u001b[39m masks \u001b[34mstats\u001b[39m::filter()\n",
      "\u001b[31m✖\u001b[39m \u001b[34mdplyr\u001b[39m::\u001b[32mlag()\u001b[39m    masks \u001b[34mstats\u001b[39m::lag()\n",
      "\u001b[36mℹ\u001b[39m Use the conflicted package (\u001b[3m\u001b[34m<http://conflicted.r-lib.org/>\u001b[39m\u001b[23m) to force all conflicts to become errors\n",
      "── \u001b[1mAttaching packages\u001b[22m ────────────────────────────────────── tidymodels 1.1.1 ──\n",
      "\n",
      "\u001b[32m✔\u001b[39m \u001b[34mbroom       \u001b[39m 1.0.5     \u001b[32m✔\u001b[39m \u001b[34mrsample     \u001b[39m 1.2.0\n",
      "\u001b[32m✔\u001b[39m \u001b[34mdials       \u001b[39m 1.2.0     \u001b[32m✔\u001b[39m \u001b[34mtune        \u001b[39m 1.1.2\n",
      "\u001b[32m✔\u001b[39m \u001b[34minfer       \u001b[39m 1.0.5     \u001b[32m✔\u001b[39m \u001b[34mworkflows   \u001b[39m 1.1.3\n",
      "\u001b[32m✔\u001b[39m \u001b[34mmodeldata   \u001b[39m 1.2.0     \u001b[32m✔\u001b[39m \u001b[34mworkflowsets\u001b[39m 1.0.1\n",
      "\u001b[32m✔\u001b[39m \u001b[34mparsnip     \u001b[39m 1.1.1     \u001b[32m✔\u001b[39m \u001b[34myardstick   \u001b[39m 1.2.0\n",
      "\u001b[32m✔\u001b[39m \u001b[34mrecipes     \u001b[39m 1.0.8     \n",
      "\n",
      "── \u001b[1mConflicts\u001b[22m ───────────────────────────────────────── tidymodels_conflicts() ──\n",
      "\u001b[31m✖\u001b[39m \u001b[34mscales\u001b[39m::\u001b[32mdiscard()\u001b[39m masks \u001b[34mpurrr\u001b[39m::discard()\n",
      "\u001b[31m✖\u001b[39m \u001b[34mdplyr\u001b[39m::\u001b[32mfilter()\u001b[39m   masks \u001b[34mstats\u001b[39m::filter()\n",
      "\u001b[31m✖\u001b[39m \u001b[34mrecipes\u001b[39m::\u001b[32mfixed()\u001b[39m  masks \u001b[34mstringr\u001b[39m::fixed()\n",
      "\u001b[31m✖\u001b[39m \u001b[34mdplyr\u001b[39m::\u001b[32mlag()\u001b[39m      masks \u001b[34mstats\u001b[39m::lag()\n",
      "\u001b[31m✖\u001b[39m \u001b[34myardstick\u001b[39m::\u001b[32mspec()\u001b[39m masks \u001b[34mreadr\u001b[39m::spec()\n",
      "\u001b[31m✖\u001b[39m \u001b[34mrecipes\u001b[39m::\u001b[32mstep()\u001b[39m   masks \u001b[34mstats\u001b[39m::step()\n",
      "\u001b[34m•\u001b[39m Learn how to get started at \u001b[32mhttps://www.tidymodels.org/start/\u001b[39m\n",
      "\n"
     ]
    }
   ],
   "source": [
    "library(tidyverse)\n",
    "library(tidymodels)"
   ]
  },
  {
   "cell_type": "markdown",
   "id": "39f5f3f7-0d6f-43e8-b09d-8359e95cd3ea",
   "metadata": {},
   "source": [
    "We can now read our dataset into R and assign it to an object called cleveland_data. We are also going to limit the amount of rows shown when previewing the dataset:"
   ]
  },
  {
   "cell_type": "code",
   "execution_count": 3,
   "id": "6ec84dfa-4345-4d06-9f90-bf59aff19786",
   "metadata": {},
   "outputs": [
    {
     "name": "stderr",
     "output_type": "stream",
     "text": [
      "\u001b[1mRows: \u001b[22m\u001b[34m303\u001b[39m \u001b[1mColumns: \u001b[22m\u001b[34m14\u001b[39m\n",
      "\u001b[36m──\u001b[39m \u001b[1mColumn specification\u001b[22m \u001b[36m────────────────────────────────────────────────────────\u001b[39m\n",
      "\u001b[1mDelimiter:\u001b[22m \",\"\n",
      "\u001b[31mchr\u001b[39m  (2): X12, X13\n",
      "\u001b[32mdbl\u001b[39m (12): X1, X2, X3, X4, X5, X6, X7, X8, X9, X10, X11, X14\n",
      "\n",
      "\u001b[36mℹ\u001b[39m Use `spec()` to retrieve the full column specification for this data.\n",
      "\u001b[36mℹ\u001b[39m Specify the column types or set `show_col_types = FALSE` to quiet this message.\n"
     ]
    },
    {
     "data": {
      "text/html": [
       "<table class=\"dataframe\">\n",
       "<caption>A spec_tbl_df: 303 × 14</caption>\n",
       "<thead>\n",
       "\t<tr><th scope=col>X1</th><th scope=col>X2</th><th scope=col>X3</th><th scope=col>X4</th><th scope=col>X5</th><th scope=col>X6</th><th scope=col>X7</th><th scope=col>X8</th><th scope=col>X9</th><th scope=col>X10</th><th scope=col>X11</th><th scope=col>X12</th><th scope=col>X13</th><th scope=col>X14</th></tr>\n",
       "\t<tr><th scope=col>&lt;dbl&gt;</th><th scope=col>&lt;dbl&gt;</th><th scope=col>&lt;dbl&gt;</th><th scope=col>&lt;dbl&gt;</th><th scope=col>&lt;dbl&gt;</th><th scope=col>&lt;dbl&gt;</th><th scope=col>&lt;dbl&gt;</th><th scope=col>&lt;dbl&gt;</th><th scope=col>&lt;dbl&gt;</th><th scope=col>&lt;dbl&gt;</th><th scope=col>&lt;dbl&gt;</th><th scope=col>&lt;chr&gt;</th><th scope=col>&lt;chr&gt;</th><th scope=col>&lt;dbl&gt;</th></tr>\n",
       "</thead>\n",
       "<tbody>\n",
       "\t<tr><td>63</td><td>1</td><td>1</td><td>145</td><td>233</td><td>1</td><td>2</td><td>150</td><td>0</td><td>2.3</td><td>3</td><td>0.0</td><td>6.0</td><td>0</td></tr>\n",
       "\t<tr><td>67</td><td>1</td><td>4</td><td>160</td><td>286</td><td>0</td><td>2</td><td>108</td><td>1</td><td>1.5</td><td>2</td><td>3.0</td><td>3.0</td><td>2</td></tr>\n",
       "\t<tr><td>67</td><td>1</td><td>4</td><td>120</td><td>229</td><td>0</td><td>2</td><td>129</td><td>1</td><td>2.6</td><td>2</td><td>2.0</td><td>7.0</td><td>1</td></tr>\n",
       "\t<tr><td>37</td><td>1</td><td>3</td><td>130</td><td>250</td><td>0</td><td>0</td><td>187</td><td>0</td><td>3.5</td><td>3</td><td>0.0</td><td>3.0</td><td>0</td></tr>\n",
       "\t<tr><td>41</td><td>0</td><td>2</td><td>130</td><td>204</td><td>0</td><td>2</td><td>172</td><td>0</td><td>1.4</td><td>1</td><td>0.0</td><td>3.0</td><td>0</td></tr>\n",
       "\t<tr><td>⋮</td><td>⋮</td><td>⋮</td><td>⋮</td><td>⋮</td><td>⋮</td><td>⋮</td><td>⋮</td><td>⋮</td><td>⋮</td><td>⋮</td><td>⋮</td><td>⋮</td><td>⋮</td></tr>\n",
       "\t<tr><td>45</td><td>1</td><td>1</td><td>110</td><td>264</td><td>0</td><td>0</td><td>132</td><td>0</td><td>1.2</td><td>2</td><td>0.0</td><td>7.0</td><td>1</td></tr>\n",
       "\t<tr><td>68</td><td>1</td><td>4</td><td>144</td><td>193</td><td>1</td><td>0</td><td>141</td><td>0</td><td>3.4</td><td>2</td><td>2.0</td><td>7.0</td><td>2</td></tr>\n",
       "\t<tr><td>57</td><td>1</td><td>4</td><td>130</td><td>131</td><td>0</td><td>0</td><td>115</td><td>1</td><td>1.2</td><td>2</td><td>1.0</td><td>7.0</td><td>3</td></tr>\n",
       "\t<tr><td>57</td><td>0</td><td>2</td><td>130</td><td>236</td><td>0</td><td>2</td><td>174</td><td>0</td><td>0.0</td><td>2</td><td>1.0</td><td>3.0</td><td>1</td></tr>\n",
       "\t<tr><td>38</td><td>1</td><td>3</td><td>138</td><td>175</td><td>0</td><td>0</td><td>173</td><td>0</td><td>0.0</td><td>1</td><td>?  </td><td>3.0</td><td>0</td></tr>\n",
       "</tbody>\n",
       "</table>\n"
      ],
      "text/latex": [
       "A spec\\_tbl\\_df: 303 × 14\n",
       "\\begin{tabular}{llllllllllllll}\n",
       " X1 & X2 & X3 & X4 & X5 & X6 & X7 & X8 & X9 & X10 & X11 & X12 & X13 & X14\\\\\n",
       " <dbl> & <dbl> & <dbl> & <dbl> & <dbl> & <dbl> & <dbl> & <dbl> & <dbl> & <dbl> & <dbl> & <chr> & <chr> & <dbl>\\\\\n",
       "\\hline\n",
       "\t 63 & 1 & 1 & 145 & 233 & 1 & 2 & 150 & 0 & 2.3 & 3 & 0.0 & 6.0 & 0\\\\\n",
       "\t 67 & 1 & 4 & 160 & 286 & 0 & 2 & 108 & 1 & 1.5 & 2 & 3.0 & 3.0 & 2\\\\\n",
       "\t 67 & 1 & 4 & 120 & 229 & 0 & 2 & 129 & 1 & 2.6 & 2 & 2.0 & 7.0 & 1\\\\\n",
       "\t 37 & 1 & 3 & 130 & 250 & 0 & 0 & 187 & 0 & 3.5 & 3 & 0.0 & 3.0 & 0\\\\\n",
       "\t 41 & 0 & 2 & 130 & 204 & 0 & 2 & 172 & 0 & 1.4 & 1 & 0.0 & 3.0 & 0\\\\\n",
       "\t ⋮ & ⋮ & ⋮ & ⋮ & ⋮ & ⋮ & ⋮ & ⋮ & ⋮ & ⋮ & ⋮ & ⋮ & ⋮ & ⋮\\\\\n",
       "\t 45 & 1 & 1 & 110 & 264 & 0 & 0 & 132 & 0 & 1.2 & 2 & 0.0 & 7.0 & 1\\\\\n",
       "\t 68 & 1 & 4 & 144 & 193 & 1 & 0 & 141 & 0 & 3.4 & 2 & 2.0 & 7.0 & 2\\\\\n",
       "\t 57 & 1 & 4 & 130 & 131 & 0 & 0 & 115 & 1 & 1.2 & 2 & 1.0 & 7.0 & 3\\\\\n",
       "\t 57 & 0 & 2 & 130 & 236 & 0 & 2 & 174 & 0 & 0.0 & 2 & 1.0 & 3.0 & 1\\\\\n",
       "\t 38 & 1 & 3 & 138 & 175 & 0 & 0 & 173 & 0 & 0.0 & 1 & ?   & 3.0 & 0\\\\\n",
       "\\end{tabular}\n"
      ],
      "text/markdown": [
       "\n",
       "A spec_tbl_df: 303 × 14\n",
       "\n",
       "| X1 &lt;dbl&gt; | X2 &lt;dbl&gt; | X3 &lt;dbl&gt; | X4 &lt;dbl&gt; | X5 &lt;dbl&gt; | X6 &lt;dbl&gt; | X7 &lt;dbl&gt; | X8 &lt;dbl&gt; | X9 &lt;dbl&gt; | X10 &lt;dbl&gt; | X11 &lt;dbl&gt; | X12 &lt;chr&gt; | X13 &lt;chr&gt; | X14 &lt;dbl&gt; |\n",
       "|---|---|---|---|---|---|---|---|---|---|---|---|---|---|\n",
       "| 63 | 1 | 1 | 145 | 233 | 1 | 2 | 150 | 0 | 2.3 | 3 | 0.0 | 6.0 | 0 |\n",
       "| 67 | 1 | 4 | 160 | 286 | 0 | 2 | 108 | 1 | 1.5 | 2 | 3.0 | 3.0 | 2 |\n",
       "| 67 | 1 | 4 | 120 | 229 | 0 | 2 | 129 | 1 | 2.6 | 2 | 2.0 | 7.0 | 1 |\n",
       "| 37 | 1 | 3 | 130 | 250 | 0 | 0 | 187 | 0 | 3.5 | 3 | 0.0 | 3.0 | 0 |\n",
       "| 41 | 0 | 2 | 130 | 204 | 0 | 2 | 172 | 0 | 1.4 | 1 | 0.0 | 3.0 | 0 |\n",
       "| ⋮ | ⋮ | ⋮ | ⋮ | ⋮ | ⋮ | ⋮ | ⋮ | ⋮ | ⋮ | ⋮ | ⋮ | ⋮ | ⋮ |\n",
       "| 45 | 1 | 1 | 110 | 264 | 0 | 0 | 132 | 0 | 1.2 | 2 | 0.0 | 7.0 | 1 |\n",
       "| 68 | 1 | 4 | 144 | 193 | 1 | 0 | 141 | 0 | 3.4 | 2 | 2.0 | 7.0 | 2 |\n",
       "| 57 | 1 | 4 | 130 | 131 | 0 | 0 | 115 | 1 | 1.2 | 2 | 1.0 | 7.0 | 3 |\n",
       "| 57 | 0 | 2 | 130 | 236 | 0 | 2 | 174 | 0 | 0.0 | 2 | 1.0 | 3.0 | 1 |\n",
       "| 38 | 1 | 3 | 138 | 175 | 0 | 0 | 173 | 0 | 0.0 | 1 | ?   | 3.0 | 0 |\n",
       "\n"
      ],
      "text/plain": [
       "    X1 X2 X3 X4  X5  X6 X7 X8  X9 X10 X11 X12 X13 X14\n",
       "1   63 1  1  145 233 1  2  150 0  2.3 3   0.0 6.0 0  \n",
       "2   67 1  4  160 286 0  2  108 1  1.5 2   3.0 3.0 2  \n",
       "3   67 1  4  120 229 0  2  129 1  2.6 2   2.0 7.0 1  \n",
       "4   37 1  3  130 250 0  0  187 0  3.5 3   0.0 3.0 0  \n",
       "5   41 0  2  130 204 0  2  172 0  1.4 1   0.0 3.0 0  \n",
       "⋮   ⋮  ⋮  ⋮  ⋮   ⋮   ⋮  ⋮  ⋮   ⋮  ⋮   ⋮   ⋮   ⋮   ⋮  \n",
       "299 45 1  1  110 264 0  0  132 0  1.2 2   0.0 7.0 1  \n",
       "300 68 1  4  144 193 1  0  141 0  3.4 2   2.0 7.0 2  \n",
       "301 57 1  4  130 131 0  0  115 1  1.2 2   1.0 7.0 3  \n",
       "302 57 0  2  130 236 0  2  174 0  0.0 2   1.0 3.0 1  \n",
       "303 38 1  3  138 175 0  0  173 0  0.0 1   ?   3.0 0  "
      ]
     },
     "metadata": {},
     "output_type": "display_data"
    }
   ],
   "source": [
    "#Demostration that the dataset can be read from the web into R:\n",
    "options(repr.matrix.max.rows = 10)\n",
    "\n",
    "url <- \"https://raw.githubusercontent.com/Nitro-87/Group-2-Project-Proposal/main/processed.cleveland.data\"\n",
    "cleveland_data <- read_delim(url, delim= \",\" , col_names=FALSE)\n",
    "\n",
    "cleveland_data"
   ]
  },
  {
   "cell_type": "markdown",
   "id": "ace7533a-faae-41d8-9a66-0407b375ade5",
   "metadata": {},
   "source": [
    "Since our data contains no column names, we rename each column with the appropriate variable name below. We also replace the numerical values under our categorical variables with what they are supposed to represent, to better understand what each variable reveals to us."
   ]
  },
  {
   "cell_type": "code",
   "execution_count": 4,
   "id": "6140cd58-63ea-4919-a944-2336b7baab9e",
   "metadata": {},
   "outputs": [
    {
     "name": "stdout",
     "output_type": "stream",
     "text": [
      "Rows: 303\n",
      "Columns: 14\n",
      "$ age             \u001b[3m\u001b[90m<dbl>\u001b[39m\u001b[23m 63, 67, 67, 37, 41, 56, 62, 57, 63, 53, 57, 56, 56, 44…\n",
      "$ sex             \u001b[3m\u001b[90m<dbl>\u001b[39m\u001b[23m 1, 1, 1, 1, 0, 1, 0, 0, 1, 1, 1, 0, 1, 1, 1, 1, 1, 1, …\n",
      "$ chest_pain_type \u001b[3m\u001b[90m<dbl>\u001b[39m\u001b[23m 1, 4, 4, 3, 2, 2, 4, 4, 4, 4, 4, 2, 3, 2, 3, 3, 2, 4, …\n",
      "$ trestbps        \u001b[3m\u001b[90m<dbl>\u001b[39m\u001b[23m 145, 160, 120, 130, 130, 120, 140, 120, 130, 140, 140,…\n",
      "$ chol            \u001b[3m\u001b[90m<dbl>\u001b[39m\u001b[23m 233, 286, 229, 250, 204, 236, 268, 354, 254, 203, 192,…\n",
      "$ fbs             \u001b[3m\u001b[90m<dbl>\u001b[39m\u001b[23m 1, 0, 0, 0, 0, 0, 0, 0, 0, 1, 0, 0, 1, 0, 1, 0, 0, 0, …\n",
      "$ restecg         \u001b[3m\u001b[90m<dbl>\u001b[39m\u001b[23m 2, 2, 2, 0, 2, 0, 2, 0, 2, 2, 0, 2, 2, 0, 0, 0, 0, 0, …\n",
      "$ thalach         \u001b[3m\u001b[90m<dbl>\u001b[39m\u001b[23m 150, 108, 129, 187, 172, 178, 160, 163, 147, 155, 148,…\n",
      "$ exang           \u001b[3m\u001b[90m<dbl>\u001b[39m\u001b[23m 0, 1, 1, 0, 0, 0, 0, 1, 0, 1, 0, 0, 1, 0, 0, 0, 0, 0, …\n",
      "$ oldpeak         \u001b[3m\u001b[90m<dbl>\u001b[39m\u001b[23m 2.3, 1.5, 2.6, 3.5, 1.4, 0.8, 3.6, 0.6, 1.4, 3.1, 0.4,…\n",
      "$ slope           \u001b[3m\u001b[90m<dbl>\u001b[39m\u001b[23m 3, 2, 2, 3, 1, 1, 3, 1, 2, 3, 2, 2, 2, 1, 1, 1, 3, 1, …\n",
      "$ ca              \u001b[3m\u001b[90m<chr>\u001b[39m\u001b[23m \"0.0\", \"3.0\", \"2.0\", \"0.0\", \"0.0\", \"0.0\", \"2.0\", \"0.0\"…\n",
      "$ thal            \u001b[3m\u001b[90m<chr>\u001b[39m\u001b[23m \"6.0\", \"3.0\", \"7.0\", \"3.0\", \"3.0\", \"3.0\", \"3.0\", \"3.0\"…\n",
      "$ diagnosis       \u001b[3m\u001b[90m<dbl>\u001b[39m\u001b[23m 0, 2, 1, 0, 0, 0, 3, 0, 2, 1, 0, 0, 2, 0, 0, 0, 1, 0, …\n"
     ]
    }
   ],
   "source": [
    "#Renaming columns:\n",
    "\n",
    "cleveland_data <- rename(cleveland_data,\n",
    "       age = X1,\n",
    "       sex = X2,\n",
    "       chest_pain_type = X3,\n",
    "       trestbps = X4,\n",
    "       chol = X5,\n",
    "       fbs = X6,    \n",
    "       restecg = X7,\n",
    "       thalach = X8,\n",
    "       exang = X9,\n",
    "       oldpeak = X10,\n",
    "       slope = X11,\n",
    "       ca = X12,\n",
    "       thal = X13,\n",
    "       diagnosis = X14)\n",
    "\n",
    "#skipping rows with missing values\n",
    "cleveland_data<- cleveland_data |> drop_na()\n",
    "\n",
    "glimpse(cleveland_data)"
   ]
  },
  {
   "cell_type": "code",
   "execution_count": null,
   "id": "f3f01d24-63ee-4612-bc8b-d417364ba405",
   "metadata": {},
   "outputs": [],
   "source": [
    "#renaming categorical variables:\n",
    "\n",
    "#renaming sex values\n",
    "cleveland_data <- cleveland_data |>\n",
    "mutate(sex = as_factor(sex))|>\n",
    "mutate(sex = fct_recode(sex, \"female\" = \"0\", \n",
    "                            \"male\" = \"1\"))\n",
    "#renaming chest pain values\n",
    "cleveland_data <- cleveland_data |>\n",
    "mutate(chest_pain_type = as_factor(chest_pain_type))|>\n",
    "mutate(chest_pain_type = fct_recode(chest_pain_type, \n",
    "                            \"typical angina\" = \"1\", \n",
    "                            \"atypical angina\" = \"2\", \n",
    "                            \"non-anginal_pain\" = \"3\", \n",
    "                            \"asymptomatic\" = \"4\"))\n",
    "#renaming fbs values\n",
    "cleveland_data <- cleveland_data |>\n",
    "mutate(fbs = as_factor(fbs))|>\n",
    "mutate(fbs = fct_recode(fbs, \"false\" = \"0\", \n",
    "                            \"true\" = \"1\"))\n",
    "\n",
    "#renaming exang values\n",
    "cleveland_data <- cleveland_data |>\n",
    "mutate(exang = as_factor(exang))|>\n",
    "mutate(exang = fct_recode(exang, \"no\" = \"0\", \n",
    "                            \"yes\" = \"1\"))\n",
    "#renaming slope values\n",
    "cleveland_data <- cleveland_data |>\n",
    "mutate(slope = as_factor(slope))|>\n",
    "mutate(slope = fct_recode(thal,\"upsloping\" = \"1\", \n",
    "                            \"flat\" = \"2\", \n",
    "                            \"downsloping\" = \"3\"))\n",
    "#renaming thal values\n",
    "cleveland_data <- cleveland_data |>\n",
    "mutate(thal = as_factor(thal))|>\n",
    "mutate(thal = fct_recode(thal, \"reversible defect\" = \"7.0\", \n",
    "                            \"fixed defect\" = \"6.0\", \n",
    "                            \"normal\" = \"3.0\"))\n",
    "#renaming diagnosis values\n",
    "cleveland_data <- cleveland_data |>\n",
    "mutate(diagnosis = as_factor(diagnosis))|>\n",
    "mutate(diagnosis = fct_recode(diagnosis, \n",
    "                            \"absent\" = \"0\",\n",
    "                              \"present\" = \"1\", \n",
    "                            \"present\" = \"2\", \n",
    "                            \"present\" = \"3\", \n",
    "                            \"present\" = \"4\"))\n",
    "\n",
    "glimpse(cleveland_data)"
   ]
  },
  {
   "cell_type": "markdown",
   "id": "aa62bd44-2e25-4efe-b8aa-a21e0c7a47f7",
   "metadata": {},
   "source": [
    "We then want to filter our dataset to only include the diagnosis and variables that we want to observe which are age, chol, tresbps and thalach."
   ]
  },
  {
   "cell_type": "code",
   "execution_count": null,
   "id": "f70c8b88-54b8-4b32-8137-3859b9a8c6ac",
   "metadata": {},
   "outputs": [],
   "source": [
    "cleveland_data_select <- select(cleveland_data, age, trestbps, chol, thalach, diagnosis)\n",
    "cleveland_data_select"
   ]
  },
  {
   "cell_type": "markdown",
   "id": "30fc3021-c73f-42ae-8f2e-e97feb6b0476",
   "metadata": {},
   "source": [
    "Now that our data is tidy and filtered, we can split it into a training set to construct our model, and a testing set to test our model's effectiveness."
   ]
  },
  {
   "cell_type": "code",
   "execution_count": null,
   "id": "350a4671-8dad-4950-ab6d-2f400c8e5f26",
   "metadata": {},
   "outputs": [],
   "source": [
    "#splitting data into training and testing sets\n",
    "\n",
    "cleveland_data_split <- initial_split(cleveland_data_select, prop = 0.75, strata = diagnosis)\n",
    "training_set <- training(cleveland_data_split)\n",
    "testing_set <- testing(cleveland_data_split)\n",
    "\n",
    "training_set\n",
    "testing_set"
   ]
  },
  {
   "cell_type": "markdown",
   "id": "18107ed2-cd37-4191-b743-3a98660484c5",
   "metadata": {},
   "source": [
    "Below is a table conducting exploratory analysis on our training dataset. This table tells us the number and percentage of observations in each class group (whether there is a presence/absence of heart disease)."
   ]
  },
  {
   "cell_type": "code",
   "execution_count": null,
   "id": "f8719deb-07be-4b6a-94f4-05413e803f83",
   "metadata": {},
   "outputs": [],
   "source": [
    "num_obs <- nrow(training_set)\n",
    "training_set |>\n",
    "  group_by(diagnosis) |>\n",
    "  summarize(\n",
    "    count = n(),\n",
    "    percentage = n() / num_obs * 100)"
   ]
  },
  {
   "cell_type": "markdown",
   "id": "c78dcf20-85f5-4778-bd4e-bcbde5aa8ee9",
   "metadata": {},
   "source": [
    "We can also use the training dataset to create a set of histograms to show us the distributions and values for each variable."
   ]
  },
  {
   "cell_type": "code",
   "execution_count": null,
   "id": "466d8752-860c-495f-bc2d-f7f0547f4809",
   "metadata": {},
   "outputs": [],
   "source": [
    "options(repr.plot.width = 9, repr.plot.height = 8)\n",
    "age_hist <- ggplot(training_set, aes(x = age)) +\n",
    "                geom_histogram(bins = 40) + \n",
    "                labs(x = \"Age\", y = \"Count\", title = \"Distribution of Age of Patients\")\n",
    "\n",
    "thalach_hist <- ggplot(training_set, aes(x = thalach)) +\n",
    "                geom_histogram(bins = 40) + \n",
    "                labs(x = \"Maximum Heart Rate Achieved\", y = \"Count\", title = \"Distribution of Maximum Heart Rate Achieved of Patients\")\n",
    "\n",
    "chol_hist <- ggplot(training_set, aes(x = chol)) +\n",
    "                geom_histogram(bins = 40) + \n",
    "                labs(x = \"Serum Cholesterol (mg/dl)\", y = \"Count\", title = \"Distribution of Serum Cholesterol of Patients\")\n",
    "\n",
    "trestbps_hist <- ggplot(training_set, aes(x = trestbps)) +\n",
    "                geom_histogram(bins = 40) + \n",
    "                labs(x = \"Resting Blood Pressure\", y = \"Count\", title = \"Distribution of Resting Blood Pressure of Patients\")\n",
    "\n",
    "gridExtra::grid.arrange(age_hist, trestbps_hist, chol_hist, thalach_hist, ncol = 2)"
   ]
  },
  {
   "cell_type": "markdown",
   "id": "246b1183-25a9-461d-95ea-dcb4d1ed6e9a",
   "metadata": {},
   "source": [
    "We have chosen to use the K-nearest neighbors classification algorithm to continue our analysis, as it allows us to scale and compare our different variables in an easy and efficient way. The goal is to create and test a model using the training and testing data, respectively. We will be using this model to analyze the data in relation to the selected variables, and aim to effectively classify our testing data."
   ]
  },
  {
   "cell_type": "markdown",
   "id": "43499ead-cd1c-442e-9aba-7d60ddba228c",
   "metadata": {},
   "source": [
    "By the end of this analysis, we expect to gain insight into the complex relationships between our chosen variables and the presence of heart disease in patients. Such findings would contribute to medical research regarding cardiovascular disease by allowing healthcare systems to identify and focus on individuals at higher risk of heart diseases, enabling earlier intervention, and potentially reducing healthcare costs associated with advanced stages of heart disease. The analysis also prompts various questions for future analyses, such as exploring the interaction between lifestyle factors (smoking habits, exercise, and diet) and our chosen variables of cholesterol, age, heart rate and blood pressure in influencing the risk of heart disease."
   ]
  },
  {
   "cell_type": "markdown",
   "id": "512c3d49-41b7-46b6-a4a9-7684078b89c2",
   "metadata": {},
   "source": [
    "The goal of our analysis is to see which of the above variables in combination are most affective at predicting the presence of heart disease in patients. To do so, we will utilize cross validation for each variable, to build a KNN model for each variable, so that we may compare their effectiveness on a subset of our training data. Afterwards we will use the indicators we deemed effective for our KNN model on our testing data, and compare this to the efficacy of a KNN model using all of the four variables. In our analysis we will prioritize recall and accuracy, because of the possibly life affecting nature of heart disease which may cause heart attack or stroke. $\\color{red}{\\text{citation needed}}$\n",
    "\n",
    "To achieve this, we will need to split our training data again, so that we can use a portion of it to test our classifiers on each variable."
   ]
  },
  {
   "cell_type": "code",
   "execution_count": null,
   "id": "6cb27de7-5ef4-4b81-984e-4469770367cc",
   "metadata": {},
   "outputs": [],
   "source": [
    "training_split <- initial_split(training_set,prop = 0.75, strata = diagnosis)\n",
    "training_subset <- training(training_split)\n",
    "testing_subset <- testing(training_split)"
   ]
  },
  {
   "cell_type": "markdown",
   "id": "797be853-7dd4-4cbe-b2ef-64c552b0ca02",
   "metadata": {},
   "source": [
    "Since we are doing the same analysis on each variable, we will do it side by side in the same code cells, as the code will be almost identical. We will test up to a relatively high $k$ value, since class imbalance won't be an issue."
   ]
  },
  {
   "cell_type": "code",
   "execution_count": null,
   "id": "885f67ea-045f-4d7a-9431-2685984a4ecb",
   "metadata": {},
   "outputs": [],
   "source": [
    "#This model will be used for all classifications\n",
    "knn_tune <- nearest_neighbor(weight_func = \"rectangular\", neighbors = tune()) |> set_engine(\"kknn\") |> set_mode(\"classification\")\n",
    "\n",
    "age_recipe <- recipe(diagnosis ~ age, data=training_subset) |> step_scale(all_predictors()) |> step_center(all_predictors())\n",
    "heart_rate_recipe <-  recipe(diagnosis ~ thalach, data=training_subset) |> step_scale(all_predictors()) |> step_center(all_predictors())\n",
    "cholesterol_recipe <- recipe(diagnosis ~ chol, data=training_subset) |> step_scale(all_predictors()) |> step_center(all_predictors())\n",
    "blood_pressure_recipe <- recipe(diagnosis ~ trestbps, data=training_subset) |> step_scale(all_predictors()) |> step_center(all_predictors())\n",
    "\n",
    "training_vfold = vfold_cv(training_subset,v = 5, strata = diagnosis)\n",
    "kvals <- tibble(neighbors = seq(from = 2, to = 16, by = 2))\n",
    "\n",
    "knn_age <- workflow() |> add_recipe(age_recipe) |> add_model(knn_tune) |> tune_grid(resamples = training_vfold, grid = kvals) |> collect_metrics()\n",
    "knn_hr <- workflow() |> add_recipe(heart_rate_recipe) |> add_model(knn_tune) |> tune_grid(resamples = training_vfold, grid = kvals) |> collect_metrics()\n",
    "knn_chol <- workflow() |> add_recipe(cholesterol_recipe) |> add_model(knn_tune) |> tune_grid(resamples = training_vfold, grid = kvals) |> collect_metrics()\n",
    "knn_bp <- workflow() |> add_recipe(blood_pressure_recipe) |> add_model(knn_tune) |> tune_grid(resamples = training_vfold, grid = kvals) |> collect_metrics()\n",
    "age_acc <- knn_age |> filter(.metric == \"accuracy\") |> select(neighbors, mean) |> mutate(variable = \"age\")\n",
    "hr_acc <- knn_hr |> filter(.metric == \"accuracy\") |> select(neighbors, mean) |> mutate(variable = \"hr\")\n",
    "chol_acc <- knn_chol |> filter(.metric == \"accuracy\") |> select(neighbors, mean) |> mutate(variable = \"chol\")\n",
    "bp_acc <- knn_bp |> filter(.metric == \"accuracy\") |> select(neighbors, mean) |> mutate(variable = \"bp\")\n",
    "#Now we will combine the accuracies into a single data set for plotting\n",
    "acc <- bind_rows(age_acc,hr_acc, chol_acc, bp_acc)\n",
    "best_k_age <- age_acc |> arrange(mean) |> slice(8) |> select(neighbors) |> pull()\n",
    "best_k_hr <- hr_acc |> arrange(mean) |> slice(8) |> select(neighbors) |> pull()\n",
    "best_k_chol <- chol_acc |> arrange(mean) |> slice(8) |> select(neighbors) |> pull()\n",
    "best_k_bp <- bp_acc |> arrange(mean) |> slice(8) |> select(neighbors) |> pull()"
   ]
  },
  {
   "cell_type": "markdown",
   "id": "bec431cc-3747-4dae-9501-34fcab99f46a",
   "metadata": {},
   "source": [
    "Now we can compare the effectiveness of each $k$ value on predictions using each individual variable, so that we can compare the efficacies using th best $k$-values for each variable."
   ]
  },
  {
   "cell_type": "code",
   "execution_count": null,
   "id": "e4e61632-868e-4c77-b7e4-a8c3902481c1",
   "metadata": {},
   "outputs": [],
   "source": [
    "options(repr.plot.width = 6, repr.plot.height = 3)\n",
    "#I will include a plot here color coding each variable, and plotting all variables accuracy vs k\n",
    "cross_val_plot <- acc |> ggplot(aes(x=neighbors,y=mean)) + geom_line(aes(colour = variable)) + \n",
    "labs(x=\"neighbors\", y=\"accuracy\") + ggtitle(\"How number of neighbors affects accuracy\")\n",
    "cross_val_plot"
   ]
  },
  {
   "cell_type": "markdown",
   "id": "b9495ddd-2c2e-40fc-92ce-c9462a8ce343",
   "metadata": {},
   "source": [
    "Now we can compare how effective our predictors are on the testing subset of our training data, in order to choose which predictors we would like to use for our final model."
   ]
  },
  {
   "cell_type": "code",
   "execution_count": null,
   "id": "e40fc7ec-df08-4012-bd52-2f72efee0b19",
   "metadata": {},
   "outputs": [],
   "source": [
    "knn_spec_age <- nearest_neighbor(weight_func = \"rectangular\", neighbors = best_k_age) |> set_engine(\"kknn\") |> set_mode(\"classification\")\n",
    "knn_spec_hr <- nearest_neighbor(weight_func = \"rectangular\", neighbors = best_k_hr) |> set_engine(\"kknn\") |> set_mode(\"classification\")\n",
    "knn_spec_bp <- nearest_neighbor(weight_func = \"rectangular\", neighbors = best_k_bp) |> set_engine(\"kknn\") |> set_mode(\"classification\")\n",
    "knn_spec_chol <- nearest_neighbor(weight_func = \"rectangular\", neighbors = best_k_chol) |> set_engine(\"kknn\") |> set_mode(\"classification\")\n",
    "\n",
    "age_fit <- workflow() |> add_recipe(age_recipe) |> add_model(knn_spec_age) |> fit(training_subset)\n",
    "hr_fit <- workflow() |> add_recipe(heart_rate_recipe) |> add_model(knn_spec_hr) |> fit(training_subset)\n",
    "bp_fit <- workflow() |> add_recipe(blood_pressure_recipe) |> add_model(knn_spec_bp) |> fit(training_subset)\n",
    "chol_fit <- workflow() |> add_recipe(cholesterol_recipe) |> add_model(knn_spec_chol) |> fit(training_subset)\n",
    "\n",
    "age_pred <- predict(age_fit,testing_subset) |> bind_cols(testing_subset)\n",
    "hr_pred <- predict(hr_fit,testing_subset) |> bind_cols(testing_subset)\n",
    "bp_pred <- predict(bp_fit,testing_subset) |> bind_cols(testing_subset)\n",
    "chol_pred <- predict(chol_fit,testing_subset) |> bind_cols(testing_subset)\n",
    "\n",
    "#here we use the formulas to compute recall/accuracy for each predictor\n",
    "age_acc <- nrow(filter(age_pred, .pred_class == diagnosis))/nrow(age_pred)\n",
    "age_recall <- nrow(filter(age_pred, .pred_class == \"present\" & diagnosis == \"present\"))/nrow(filter(age_pred,diagnosis == \"present\"))\n",
    "hr_acc <- nrow(filter(hr_pred, .pred_class == diagnosis))/nrow(hr_pred)\n",
    "hr_recall <- nrow(filter(hr_pred, .pred_class == \"present\" & diagnosis == \"present\"))/nrow(filter(hr_pred,diagnosis == \"present\"))\n",
    "bp_acc <- nrow(filter(bp_pred, .pred_class == diagnosis))/nrow(bp_pred)\n",
    "bp_recall <- nrow(filter(bp_pred, .pred_class == \"present\" & diagnosis == \"present\"))/nrow(filter(bp_pred,diagnosis == \"present\"))\n",
    "chol_acc <- nrow(filter(chol_pred, .pred_class == diagnosis))/nrow(chol_pred)\n",
    "chol_recall <- nrow(filter(chol_pred, .pred_class == \"present\" & diagnosis == \"present\"))/nrow(filter(chol_pred,diagnosis == \"present\"))\n",
    "\n",
    "#Now as a tibble\n",
    "var_names <- as_tibble(c(\"age\", \"age\", \"max heart rate\", \"max heart rate\", \"resting blood pressure\",\"resting blood pressure\", \"serum cholesterol\", \"serum cholesterol\")) |> rename(variable = value)\n",
    "metric_type <- as_tibble(c(\"accuracy\", \"recall\",\"accuracy\", \"recall\",\"accuracy\", \"recall\",\"accuracy\", \"recall\")) |> rename(metric = value)\n",
    "value <- as_tibble(c(age_acc,age_recall,hr_acc,hr_recall,bp_acc,bp_recall,chol_acc,chol_recall))     \n",
    "recall_acc_preds <- bind_cols(var_names,metric_type,value)\n",
    "recall_preds <- recall_acc_preds |> filter(metric == \"recall\")\n",
    "acc_preds <- recall_acc_preds |> filter(metric == \"accuracy\")"
   ]
  },
  {
   "cell_type": "markdown",
   "id": "fe44a063-5e9f-4c5a-976d-4981c5d0866e",
   "metadata": {},
   "source": [
    "Here are plots comparing the accuracy and recall of a model when using each predictor respectively"
   ]
  },
  {
   "cell_type": "code",
   "execution_count": 1,
   "id": "ebb874cf-d4f4-40b7-a9dd-e50464cf1434",
   "metadata": {},
   "outputs": [
    {
     "ename": "ERROR",
     "evalue": "Error in ggplot(acc_preds, aes(x = variable, y = value)): could not find function \"ggplot\"\n",
     "output_type": "error",
     "traceback": [
      "Error in ggplot(acc_preds, aes(x = variable, y = value)): could not find function \"ggplot\"\nTraceback:\n"
     ]
    }
   ],
   "source": [
    "accuracy_plot <- ggplot(acc_preds, aes(x = variable, y = value)) + geom_bar(stat = \"identity\", aes(fill = variable)) + labs(x = \"predictor\", y = \"accuracy\")\n",
    "\n",
    "accuracy_plot"
   ]
  },
  {
   "cell_type": "code",
   "execution_count": null,
   "id": "8b68385c-75da-4601-93ea-fb37b41b83a7",
   "metadata": {},
   "outputs": [],
   "source": []
  }
 ],
 "metadata": {
  "kernelspec": {
   "display_name": "R",
   "language": "R",
   "name": "ir"
  },
  "language_info": {
   "codemirror_mode": "r",
   "file_extension": ".r",
   "mimetype": "text/x-r-source",
   "name": "R",
   "pygments_lexer": "r",
   "version": "4.3.1"
  }
 },
 "nbformat": 4,
 "nbformat_minor": 5
}
