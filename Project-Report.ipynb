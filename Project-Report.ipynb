{
 "cells": [
  {
   "cell_type": "markdown",
   "id": "0ef5b699-f5e9-418d-90b7-b3ffe0f008f7",
   "metadata": {},
   "source": [
    "**Data Science Section 002 Group 7 Project Report**"
   ]
  },
  {
   "cell_type": "code",
   "execution_count": null,
   "id": "c3ecaa49-1c0a-43d0-a00d-0e9d0209fb89",
   "metadata": {},
   "outputs": [],
   "source": []
  }
 ],
 "metadata": {
  "kernelspec": {
   "display_name": "R",
   "language": "R",
   "name": "ir"
  },
  "language_info": {
   "codemirror_mode": "r",
   "file_extension": ".r",
   "mimetype": "text/x-r-source",
   "name": "R",
   "pygments_lexer": "r",
   "version": "4.3.1"
  }
 },
 "nbformat": 4,
 "nbformat_minor": 5
}
